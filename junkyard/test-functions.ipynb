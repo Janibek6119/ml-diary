{
 "cells": [
  {
   "cell_type": "code",
   "execution_count": null,
   "metadata": {},
   "outputs": [],
   "source": [
    "import numpy as np\n",
    "\n",
    "\n",
    "def sigmoid(z):\n",
    "    return 1 / (1+np.exp(-z))\n",
    "\n",
    "\n",
    "def antisigmoid(z):\n",
    "    return np.log(-(z/(z-1)))\n",
    "\n",
    "\n",
    "def relu(val):\n",
    "    return np.maximum(np.zeros(val.shape), val)\n",
    "\n",
    "\n",
    "def linear(z):\n",
    "    return z\n",
    "\n",
    "\n",
    "def softmax(Z):\n",
    "    expz = np.exp(Z)\n",
    "    return expz / np.sum(expz)\n",
    "\n",
    "def dense(a_in, w, b, g=sigmoid):\n",
    "    return g(np.matmul(a_in, w) + b)\n",
    "\n",
    "def lambda_sum(w, lambd):\n",
    "    return np.mean(lambd * w ** 2) / 2\n",
    "\n",
    "def cost_lin(predictions, truth, w=None, lambd=None):\n",
    "    result = np.mean((predictions - truth)**2) / 2\n",
    "    if w and lambd:\n",
    "        result += lambda_sum(w,lambd)\n",
    "    return result\n",
    "\n",
    "def cost_log(predictions, truth, w=None, lambd=None):\n",
    "    # if np.any(f == 1) or np.any(f == 0):\n",
    "    # return \"NAN\"\n",
    "    a = truth * np.log(predictions)\n",
    "    b = (1 - truth) * np.log(1 - predictions)\n",
    "    result = -np.mean(a+b)\n",
    "    if w and lambd:\n",
    "        result += lambda_sum(w, lambd)\n",
    "    return result\n",
    "\n",
    "def cost_softmax(A):\n",
    "    return -np.log(A)\n"
   ]
  }
 ],
 "metadata": {
  "kernelspec": {
   "display_name": "Python 3.10.8 64-bit",
   "language": "python",
   "name": "python3"
  },
  "language_info": {
   "codemirror_mode": {
    "name": "ipython",
    "version": 3
   },
   "file_extension": ".py",
   "mimetype": "text/x-python",
   "name": "python",
   "nbconvert_exporter": "python",
   "pygments_lexer": "ipython3",
   "version": "3.10.8"
  },
  "orig_nbformat": 4,
  "vscode": {
   "interpreter": {
    "hash": "c19fa61d258bb2b35aae2ada233c33e2817c1ce895aa48acba720c6bf7cbe3cb"
   }
  }
 },
 "nbformat": 4,
 "nbformat_minor": 2
}

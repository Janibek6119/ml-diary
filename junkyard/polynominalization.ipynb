{
 "cells": [
  {
   "cell_type": "code",
   "execution_count": 1,
   "metadata": {},
   "outputs": [],
   "source": [
    "import numpy as np\n",
    "from copy import deepcopy\n",
    "\n",
    "x = np.array([2,3,5])\n",
    "x2 = np.array([[2,3,5,7],[2,3,5,7]])\n",
    "\n",
    "\n",
    "def polynom(inputs: np.ndarray, degree=2):\n",
    "    if degree < 2:\n",
    "        raise Exception(\"Degree should be at least 2\")\n",
    "\n",
    "    transposed = inputs.T\n",
    "    base = len(transposed)\n",
    "\n",
    "    pols = []\n",
    "    newgen = []\n",
    "    for i in range(base):\n",
    "        newgen.append([i])\n",
    "    pols.extend(newgen)\n",
    "\n",
    "    for deg in range(1, degree):\n",
    "        lastgen = newgen\n",
    "        newgen = []\n",
    "        for p in lastgen:\n",
    "            for i in range(p[-1], base):\n",
    "                pnext = [*p, i]\n",
    "                pnext.sort()\n",
    "                newgen.append(pnext)\n",
    "        pols.extend(newgen)\n",
    "\n",
    "    new_inputs = []\n",
    "    for p in pols:\n",
    "        new_inputs.append(deepcopy(transposed[p[0]]))\n",
    "        for i in p[1:]:\n",
    "            new_inputs[-1] *= transposed[i]\n",
    "    return np.array(new_inputs).T\n",
    "\n",
    "\n",
    "polx = polynom(x, 3)\n",
    "polx2 = polynom(x, 2)"
   ]
  }
 ],
 "metadata": {
  "kernelspec": {
   "display_name": "Python 3.10.8 64-bit",
   "language": "python",
   "name": "python3"
  },
  "language_info": {
   "codemirror_mode": {
    "name": "ipython",
    "version": 3
   },
   "file_extension": ".py",
   "mimetype": "text/x-python",
   "name": "python",
   "nbconvert_exporter": "python",
   "pygments_lexer": "ipython3",
   "version": "3.10.8"
  },
  "orig_nbformat": 4,
  "vscode": {
   "interpreter": {
    "hash": "c19fa61d258bb2b35aae2ada233c33e2817c1ce895aa48acba720c6bf7cbe3cb"
   }
  }
 },
 "nbformat": 4,
 "nbformat_minor": 2
}

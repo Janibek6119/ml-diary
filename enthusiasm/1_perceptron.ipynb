{
 "cells": [
  {
   "cell_type": "code",
   "execution_count": 1,
   "metadata": {},
   "outputs": [
    {
     "name": "stdout",
     "output_type": "stream",
     "text": [
      "[[-0.16595599]\n",
      " [ 0.44064899]\n",
      " [-0.99977125]]\n"
     ]
    }
   ],
   "source": [
    "import numpy as np\n",
    "\n",
    "\n",
    "def sig(x):\n",
    "    return 1 / (1 + np.exp(-x))\n",
    "\n",
    "\n",
    "training_data = np.array([\n",
    "    [0, 0, 0, 0],\n",
    "    [0, 0, 1, 0],\n",
    "    [0, 1, 0, 0],\n",
    "    [0, 1, 1, 0],\n",
    "    [1, 0, 0, 1],\n",
    "    [1, 0, 1, 1],\n",
    "    [1, 1, 0, 1],\n",
    "    [1, 1, 1, 1]])\n",
    "\n",
    "training_inputs = training_data[:, 0:3]\n",
    "\n",
    "training_outputs = training_data[:, 3:]\n",
    "\n",
    "np.random.seed(1)\n",
    "\n",
    "synaptic_weights = 2 * np.random.random((3, 1)) - 1\n",
    "\n",
    "print(synaptic_weights)\n"
   ]
  },
  {
   "attachments": {},
   "cell_type": "markdown",
   "metadata": {},
   "source": [
    "Just check each step one by one"
   ]
  },
  {
   "cell_type": "code",
   "execution_count": 2,
   "metadata": {},
   "outputs": [
    {
     "name": "stdout",
     "output_type": "stream",
     "text": [
      "Synaptic weights before training: \n",
      "[[-0.16595599]\n",
      " [ 0.44064899]\n",
      " [-0.99977125]]\n",
      "Errors:\n",
      "[[-0.5       ]\n",
      " [-0.2689864 ]\n",
      " [-0.60841366]\n",
      " [-0.36375058]\n",
      " [ 0.54139404]\n",
      " [ 0.76237183]\n",
      " [ 0.43175534]\n",
      " [ 0.6737243 ]]\n",
      "Adjustment:\n",
      "[[0.5265589 ]\n",
      " [0.02488857]\n",
      " [0.14913351]]\n",
      "Synaptic weights after training: \n",
      "[[ 0.36060291]\n",
      " [ 0.46553755]\n",
      " [-0.85063774]]\n"
     ]
    }
   ],
   "source": [
    "outputs = sig(np.dot(training_inputs, synaptic_weights))\n",
    "err = training_outputs - outputs\n",
    "adjustments = np.dot(training_inputs.T, err * outputs * (1 - outputs))\n",
    "print(\"Synaptic weights before training: \")\n",
    "print(synaptic_weights)\n",
    "print(\"Errors:\")\n",
    "print(err)\n",
    "print(\"Adjustment:\")\n",
    "print(adjustments)\n",
    "synaptic_weights += adjustments\n",
    "print(\"Synaptic weights after training: \")\n",
    "print(synaptic_weights)"
   ]
  }
 ],
 "metadata": {
  "kernelspec": {
   "display_name": "Python 3.11.0 64-bit",
   "language": "python",
   "name": "python3"
  },
  "language_info": {
   "codemirror_mode": {
    "name": "ipython",
    "version": 3
   },
   "file_extension": ".py",
   "mimetype": "text/x-python",
   "name": "python",
   "nbconvert_exporter": "python",
   "pygments_lexer": "ipython3",
   "version": "3.10.8"
  },
  "orig_nbformat": 4,
  "vscode": {
   "interpreter": {
    "hash": "c261aea317cc0286b3b3261fbba9abdec21eaa57589985bb7a274bf54d6cc0a7"
   }
  }
 },
 "nbformat": 4,
 "nbformat_minor": 2
}

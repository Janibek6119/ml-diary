{
 "cells": [
  {
   "cell_type": "code",
   "execution_count": 1,
   "metadata": {},
   "outputs": [],
   "source": [
    "import numpy as np\n",
    "\n",
    "\n",
    "def sig(x):\n",
    "    return 1 / (1 + np.exp(-x))\n",
    "\n",
    "def err_gradient(errors, values):\n",
    "    return errors * values * (1 - values)\n",
    "\n",
    "\n",
    "training_data = np.array([\n",
    "    [0, 0, 0, 0],\n",
    "    [0, 0, 1, 0],\n",
    "    [0, 1, 0, 0],\n",
    "    [0, 1, 1, 0],\n",
    "    [1, 0, 0, 1],\n",
    "    [1, 0, 1, 1],\n",
    "    [1, 1, 0, 1],\n",
    "    [1, 1, 1, 1]\n",
    "])\n",
    "# [cases, inputs]\n",
    "training_inputs = training_data[:, 0:3]\n",
    "# [cases, outputs]\n",
    "training_outputs = training_data[:, 3:]\n",
    "\n",
    "np.random.seed(1)\n",
    "\n",
    "# [inputs, H1]\n",
    "weights_i_1 = 2 * np.random.random((3, 5)) - 1\n",
    "# [H1, H2]\n",
    "weights_1_2 = 2 * np.random.random((5, 6)) - 1\n",
    "# [H2, outputs]\n",
    "weights_2_o = 2 * np.random.random((6, 1)) - 1"
   ]
  },
  {
   "cell_type": "code",
   "execution_count": 2,
   "metadata": {},
   "outputs": [
    {
     "name": "stdout",
     "output_type": "stream",
     "text": [
      "[[0.00542434]\n",
      " [0.00204528]\n",
      " [0.00200847]\n",
      " [0.00118412]\n",
      " [0.99705175]\n",
      " [0.99736709]\n",
      " [0.99702731]\n",
      " [0.99700348]]\n"
     ]
    }
   ],
   "source": [
    "for i in range(10000):\n",
    "    # [cases, H1]\n",
    "    values_1 = sig(np.dot(training_inputs, weights_i_1))\n",
    "    # [cases, H2]\n",
    "    values_2 = sig(np.dot(values_1, weights_1_2))\n",
    "    # [cases, outputs]\n",
    "    values_o = sig(np.dot(values_2, weights_2_o))\n",
    "\n",
    "    # [cases, outputs]\n",
    "    gradients_o = err_gradient(training_outputs - values_o, values_o)\n",
    "    # [cases, H2]\n",
    "    gradients_2 = err_gradient(np.dot(gradients_o, weights_2_o.T), values_2)\n",
    "    # [cases, H1]\n",
    "    gradients_1 = err_gradient(np.dot(gradients_2, weights_1_2.T), values_1)\n",
    "\n",
    "    # [H1, outputs]\n",
    "    weights_2_o += np.dot(values_2.T, gradients_o)\n",
    "    # [H1, outputs]\n",
    "    weights_1_2 += np.dot(values_1.T, gradients_2)\n",
    "    # [inputs, H1]\n",
    "    weights_i_1 += np.dot(training_inputs.T, gradients_1)\n",
    "\n",
    "print(values_o)"
   ]
  }
 ],
 "metadata": {
  "kernelspec": {
   "display_name": "Python 3.10.8 64-bit",
   "language": "python",
   "name": "python3"
  },
  "language_info": {
   "codemirror_mode": {
    "name": "ipython",
    "version": 3
   },
   "file_extension": ".py",
   "mimetype": "text/x-python",
   "name": "python",
   "nbconvert_exporter": "python",
   "pygments_lexer": "ipython3",
   "version": "3.10.8"
  },
  "orig_nbformat": 4,
  "vscode": {
   "interpreter": {
    "hash": "c19fa61d258bb2b35aae2ada233c33e2817c1ce895aa48acba720c6bf7cbe3cb"
   }
  }
 },
 "nbformat": 4,
 "nbformat_minor": 2
}

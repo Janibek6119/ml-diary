{
 "cells": [
  {
   "cell_type": "code",
   "execution_count": 36,
   "metadata": {},
   "outputs": [],
   "source": [
    "import numpy as np\n",
    "import matplotlib.pyplot as plt\n",
    "\n",
    "def lambda_sum(w, lambd):\n",
    "    return np.mean(lambd * w ** 2) / 2\n",
    "\n",
    "class ActivationManager():\n",
    "    def activate(self, z):\n",
    "        pass\n",
    "\n",
    "    def derivate(self, a):\n",
    "        pass\n",
    "\n",
    "    def cost(self, predictions, truth, w=None, lambd=None):\n",
    "        pass\n",
    "\n",
    "\n",
    "class SigmoidActivator(ActivationManager):\n",
    "    def activate(self, z):\n",
    "        return 1 / (1 + np.exp(-z))\n",
    "\n",
    "    def derivate(self, a):\n",
    "        return a * (1-a)\n",
    "\n",
    "    def cost(self, predictions, truth, w=None, lambd=None):\n",
    "        # if np.any(f == 1) or np.any(f == 0):\n",
    "        # return \"NAN\"\n",
    "        a = truth * np.log(predictions)\n",
    "        b = (1 - truth) * np.log(1 - predictions)\n",
    "        result = -np.mean(a+b)\n",
    "        if w and lambd:\n",
    "            result += lambda_sum(w, lambd)\n",
    "        return result\n",
    "\n",
    "class LinearActivator(ActivationManager):\n",
    "    def activate(self, z):\n",
    "        return z\n",
    "\n",
    "    def cost(self, predictions, truth, w=None, lambd=None):\n",
    "        result = np.mean((predictions - truth)**2) / 2\n",
    "        if w and lambd:\n",
    "            result += lambda_sum(w, lambd)\n",
    "        return result\n",
    "\n",
    "    def derivate(self, a):\n",
    "        return 1\n",
    "\n",
    "\n",
    "training_data = np.array([\n",
    "    [0, 0, 0, 0],\n",
    "    [0, 0, 1, 0],\n",
    "    [0, 1, 0, 0],\n",
    "    [0, 1, 1, 0],\n",
    "    [1, 0, 0, 1],\n",
    "    [1, 0, 1, 1],\n",
    "    [1, 1, 0, 1],\n",
    "    [1, 1, 1, 1]\n",
    "])\n",
    "x_train = training_data[:, 0:3]\n",
    "y_train = training_data[:, 3:]\n",
    "\n",
    "np.random.seed(1)\n",
    "w1 = 2 * np.random.random((3, 5)) - 1\n",
    "b1 = 2 * np.random.random(5) - 1\n",
    "w2 = 2 * np.random.random((5, 1)) - 1\n",
    "b2 = 2 * np.random.random(1) - 1\n",
    "costs = []\n"
   ]
  },
  {
   "cell_type": "code",
   "execution_count": 38,
   "metadata": {},
   "outputs": [
    {
     "data": {
      "image/png": "[encoded data removed]",
      "text/plain": [
       "<Figure size 640x480 with 1 Axes>"
      ]
     },
     "metadata": {},
     "output_type": "display_data"
    },
    {
     "name": "stdout",
     "output_type": "stream",
     "text": [
      "0.006481865247540963\n"
     ]
    }
   ],
   "source": [
    "activator = SigmoidActivator()\n",
    "ALPHA = 1\n",
    "for i in range(10000):\n",
    "    z1 = np.matmul(x_train, w1) + b1\n",
    "    a1 = activator.activate(z1)\n",
    "    z2 = np.matmul(a1, w2) + b2\n",
    "    a2 = activator.activate(z2)\n",
    "    m = len(a2)\n",
    "\n",
    "    e2 = a2 - y_train\n",
    "    g2 = e2 * activator.derivate(a2)\n",
    "    e1 = np.matmul(g2, w2.T)\n",
    "    g1 = e1 * activator.derivate(a1)\n",
    "\n",
    "    gw2 = np.matmul(a1.T, g2) / m\n",
    "    gw1 = np.matmul(x_train.T, g1) / m\n",
    "\n",
    "    gb2 = np.mean(g2, axis=0)\n",
    "    gb1 = np.mean(g1, axis=0)\n",
    "\n",
    "    w2 -= gw2*ALPHA\n",
    "    w1 -= gw1*ALPHA\n",
    "    b2 -= gb2*ALPHA\n",
    "    b1 -= gb1*ALPHA\n",
    "\n",
    "    costs.append(activator.cost(a2, y_train))\n",
    "# 0.01118877008834417\n",
    "plt.plot(costs)\n",
    "plt.show()\n",
    "print(costs[-1])\n"
   ]
  }
 ],
 "metadata": {
  "kernelspec": {
   "display_name": "Python 3.10.8 64-bit",
   "language": "python",
   "name": "python3"
  },
  "language_info": {
   "codemirror_mode": {
    "name": "ipython",
    "version": 3
   },
   "file_extension": ".py",
   "mimetype": "text/x-python",
   "name": "python",
   "nbconvert_exporter": "python",
   "pygments_lexer": "ipython3",
   "version": "3.10.8"
  },
  "orig_nbformat": 4,
  "vscode": {
   "interpreter": {
    "hash": "c19fa61d258bb2b35aae2ada233c33e2817c1ce895aa48acba720c6bf7cbe3cb"
   }
  }
 },
 "nbformat": 4,
 "nbformat_minor": 2
}

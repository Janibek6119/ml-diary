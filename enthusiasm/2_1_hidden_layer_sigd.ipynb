{
 "cells": [
  {
   "cell_type": "code",
   "execution_count": 1,
   "metadata": {},
   "outputs": [
    {
     "name": "stdout",
     "output_type": "stream",
     "text": [
      "W1:\n",
      "[[-0.16595599  0.44064899 -0.99977125 -0.39533485 -0.70648822]\n",
      " [-0.81532281 -0.62747958 -0.30887855 -0.20646505  0.07763347]\n",
      " [-0.16161097  0.370439   -0.5910955   0.75623487 -0.94522481]]\n",
      "W2:\n",
      "[[ 0.60148914]\n",
      " [ 0.93652315]\n",
      " [-0.37315164]\n",
      " [ 0.38464523]\n",
      " [ 0.7527783 ]]\n",
      "ERROR:\n",
      "[[ 0.5       ]\n",
      " [ 0.51240323]\n",
      " [ 0.27214369]\n",
      " [ 0.28208346]\n",
      " [-0.49949228]\n",
      " [-0.48708937]\n",
      " [-0.72745384]\n",
      " [-0.71750508]]\n",
      "COST:\n",
      "0.748036902137295\n"
     ]
    }
   ],
   "source": [
    "import numpy as np\n",
    "import matplotlib.pyplot as plt\n",
    "\n",
    "def lambda_sum(w, lambd):\n",
    "    return np.mean(lambd * w ** 2) / 2\n",
    "\n",
    "class ActivationManager():\n",
    "    def activate(self, z):\n",
    "        pass\n",
    "\n",
    "    def derivate(self, a):\n",
    "        pass\n",
    "\n",
    "    def cost(self, predictions, truth, w=None, lambd=None):\n",
    "        pass\n",
    "\n",
    "\n",
    "class SigmoidActivator(ActivationManager):\n",
    "    def activate(self, z):\n",
    "        return 1 / (1 + np.exp(-z))\n",
    "\n",
    "    def derivate(self, a):\n",
    "        return a * (1-a)\n",
    "\n",
    "    def cost(self, predictions, truth, w=None, lambd=None):\n",
    "        # if np.any(f == 1) or np.any(f == 0):\n",
    "        # return \"NAN\"\n",
    "        a = truth * np.log(predictions)\n",
    "        b = (1 - truth) * np.log(1 - predictions)\n",
    "        result = -np.mean(a+b)\n",
    "        if w and lambd:\n",
    "            result += lambda_sum(w, lambd)\n",
    "        return result\n",
    "\n",
    "class LinearActivator(ActivationManager):\n",
    "    def activate(self, z):\n",
    "        return z\n",
    "\n",
    "    def cost(self, predictions, truth, w=None, lambd=None):\n",
    "        result = np.mean((predictions - truth)**2) / 2\n",
    "        if w and lambd:\n",
    "            result += lambda_sum(w, lambd)\n",
    "        return result\n",
    "\n",
    "    def derivate(self, a):\n",
    "        return 1\n",
    "\n",
    "\n",
    "training_data = np.array([\n",
    "    [0, 0, 0, 0],\n",
    "    [0, 0, 1, 0],\n",
    "    [0, 1, 0, 0],\n",
    "    [0, 1, 1, 0],\n",
    "    [1, 0, 0, 1],\n",
    "    [1, 0, 1, 1],\n",
    "    [1, 1, 0, 1],\n",
    "    [1, 1, 1, 1]\n",
    "])\n",
    "x_train = training_data[:, 0:3]\n",
    "y_train = training_data[:, 3:]\n",
    "\n",
    "np.random.seed(1)\n",
    "w1 = 2 * np.random.random((3, 5)) - 1\n",
    "b1 = 2 * np.random.random(5) - 1\n",
    "w2 = 2 * np.random.random((5, 1)) - 1\n",
    "b2 = 2 * np.random.random(1) - 1\n",
    "costs = []\n",
    "\n",
    "activator1 = SigmoidActivator()\n",
    "activator2 = SigmoidActivator()\n",
    "z1 = np.dot(x_train, w1)\n",
    "a1 = activator1.activate(z1)\n",
    "z2 = np.dot(a1, w2)\n",
    "a2 = activator2.activate(z2)\n",
    "e2 = a2 - y_train\n",
    "\n",
    "np.set_printoptions(precision=8, suppress=True)\n",
    "print(\"W1:\")\n",
    "print(w1)\n",
    "print(\"W2:\")\n",
    "print(w2)\n",
    "print(\"ERROR:\")\n",
    "print(e2)\n",
    "print(\"COST:\")\n",
    "print(activator2.cost(a2, y_train))"
   ]
  },
  {
   "cell_type": "code",
   "execution_count": 2,
   "metadata": {},
   "outputs": [
    {
     "name": "stdout",
     "output_type": "stream",
     "text": [
      "W1:\n",
      "[[ 0.45656269  2.18353446 -2.39950947 -0.06438507  0.25774101]\n",
      " [-0.72858088 -0.41959285 -0.45948847 -0.15955332  0.20250796]\n",
      " [-0.27802281  0.06725268 -0.35608944  0.69707826 -1.11663331]]\n",
      "W2:\n",
      "[[ 0.58431773]\n",
      " [ 2.45348581]\n",
      " [-2.33456845]\n",
      " [ 0.33057693]\n",
      " [ 1.10895403]]\n",
      "ERROR:\n",
      "[[ 0.00427244]\n",
      " [ 0.0035926 ]\n",
      " [ 0.00346372]\n",
      " [ 0.00291219]\n",
      " [-0.00237826]\n",
      " [-0.00282896]\n",
      " [-0.00293429]\n",
      " [-0.00348999]]\n",
      "COST:\n",
      "0.003239447551787589\n"
     ]
    }
   ],
   "source": [
    "ALPHA = 1\n",
    "for i in range(10000):\n",
    "    z1 = np.matmul(x_train, w1) + b1\n",
    "    a1 = activator1.activate(z1)\n",
    "    z2 = np.matmul(a1, w2) + b2\n",
    "    a2 = activator2.activate(z2)\n",
    "    m = len(a2)\n",
    "\n",
    "    e2 = a2 - y_train\n",
    "    g2 = e2 * activator2.derivate(a2)\n",
    "    e1 = np.matmul(g2, w2.T)\n",
    "    g1 = e1 * activator1.derivate(a1)\n",
    "\n",
    "    gw2 = np.matmul(a1.T, g2) / m\n",
    "    gw1 = np.matmul(x_train.T, g1) / m\n",
    "\n",
    "    gb2 = np.mean(g2, axis=0)\n",
    "    gb1 = np.mean(g1, axis=0)\n",
    "\n",
    "    w2 -= gw2*ALPHA\n",
    "    w1 -= gw1*ALPHA\n",
    "    b2 -= gb2*ALPHA\n",
    "    b1 -= gb1*ALPHA\n",
    "\n",
    "    costs.append(activator2.cost(a2, y_train))\n",
    "\n",
    "print(\"W1:\")\n",
    "print(w1)\n",
    "print(\"W2:\")\n",
    "print(w2)\n",
    "print(\"ERROR:\")\n",
    "print(e2)\n",
    "print(\"COST:\")\n",
    "print(costs[-1])\n"
   ]
  },
  {
   "cell_type": "code",
   "execution_count": 3,
   "metadata": {},
   "outputs": [
    {
     "data": {
      "image/png": "[encoded data removed]",
      "text/plain": [
       "<Figure size 640x480 with 1 Axes>"
      ]
     },
     "metadata": {},
     "output_type": "display_data"
    }
   ],
   "source": [
    "from matplotlib import pyplot as plt\n",
    "plt.plot(costs)\n",
    "plt.yscale('log')\n",
    "plt.grid(True)\n",
    "plt.show()"
   ]
  }
 ],
 "metadata": {
  "kernelspec": {
   "display_name": "Python 3.10.8 64-bit",
   "language": "python",
   "name": "python3"
  },
  "language_info": {
   "codemirror_mode": {
    "name": "ipython",
    "version": 3
   },
   "file_extension": ".py",
   "mimetype": "text/x-python",
   "name": "python",
   "nbconvert_exporter": "python",
   "pygments_lexer": "ipython3",
   "version": "3.10.8"
  },
  "orig_nbformat": 4,
  "vscode": {
   "interpreter": {
    "hash": "c19fa61d258bb2b35aae2ada233c33e2817c1ce895aa48acba720c6bf7cbe3cb"
   }
  }
 },
 "nbformat": 4,
 "nbformat_minor": 2
}

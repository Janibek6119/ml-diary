{
 "cells": [
  {
   "cell_type": "code",
   "execution_count": 1,
   "metadata": {},
   "outputs": [],
   "source": [
    "import numpy as np\n",
    "import typing\n",
    "import enum\n",
    "\n",
    "\n",
    "def create_weights(neurons: typing.Iterable[int]):\n",
    "    np.random.seed(1)\n",
    "    if len(neurons) < 2:\n",
    "        raise Exception(\"At least two values (input layer & output layer) are required\")\n",
    "    for size in neurons:\n",
    "        if size < 1:\n",
    "            raise Exception(\"Minimum 1 neuron per layer\")\n",
    "    weights: list[np.ndarray[typing.Any, np.dtype[np.float64]]] = []\n",
    "    for i in range(0, len(neurons)-1):\n",
    "        weights.append(2 * np.random.random((neurons[i], neurons[i+1])) - 1)\n",
    "    return weights\n",
    "\n",
    "\n",
    "class ActivatorType(enum.Enum):\n",
    "    SIGMOID = 1\n",
    "\n",
    "\n",
    "class AbstractActivatorBundle:\n",
    "    def sig(self, x):\n",
    "        pass\n",
    "\n",
    "    def err_gradient(self, errors, values):\n",
    "        pass\n",
    "\n",
    "\n",
    "class SigmoidActivatorBundle(AbstractActivatorBundle):\n",
    "    def sig(self, x):\n",
    "        return 1 / (1 + np.exp(-x))\n",
    "\n",
    "    def err_gradient(self, errors, values):\n",
    "        return errors * values * (1 - values)\n",
    "\n",
    "\n",
    "class Pontmaster:\n",
    "    weights: list[np.ndarray[typing.Any, np.dtype[np.float64]]]\n",
    "    neurons: typing.Iterable[int]\n",
    "    inputs: int\n",
    "    outputs: int\n",
    "    activator_type: ActivatorType\n",
    "    activator: AbstractActivatorBundle\n",
    "\n",
    "    def __init__(self, neurons: typing.Iterable[int], activator_type=ActivatorType.SIGMOID) -> None:\n",
    "        self.neurons = neurons\n",
    "        self.weights = create_weights(neurons)\n",
    "        self.inputs = neurons[0]\n",
    "        self.outputs = neurons[-1]\n",
    "        self.activator_type = activator_type\n",
    "        if activator_type == ActivatorType.SIGMOID:\n",
    "            self.activator = SigmoidActivatorBundle()\n",
    "\n",
    "    def split_training_data(self, training_data: np.ndarray):\n",
    "        if len(training_data.shape) != 2:\n",
    "            raise Exception(f\"Training dataset must be 2-dimensional ({len(training_data.shape)}-dimensional was given)\")\n",
    "        if training_data.shape[-1] != self.inputs + self.outputs:\n",
    "            raise Exception(f\"Training data row size mismatch: {training_data.shape[-1]} instead of {self.inputs + self.outputs}\")\n",
    "        training_inputs = training_data[:, 0:self.inputs]\n",
    "        training_outputs = training_data[:, self.inputs:]\n",
    "        return training_inputs, training_outputs\n",
    "\n",
    "    def train_repeatedly(self, training_data: np.ndarray, repetitions=10000):\n",
    "        split_data = self.split_training_data(training_data)\n",
    "        for i in range(repetitions):\n",
    "            self.train_batch(*split_data)\n",
    "\n",
    "    def test_one_row(self, row: np.ndarray):\n",
    "        input, output = (row[0:self.inputs], row[self.inputs:])\n",
    "        result = self.__propagate__(input)[-1]\n",
    "        error = output - result\n",
    "        return result, error\n",
    "\n",
    "    def test_many_rows(self, data: np.ndarray):\n",
    "        inputs, outputs = self.split_training_data(data)\n",
    "        results = self.__propagate__(inputs)[-1]\n",
    "        errors = outputs - results\n",
    "        return results, errors\n",
    "\n",
    "    def __propagate__(self, inputs: np.ndarray):\n",
    "        values = [self.activator.sig(np.dot(inputs, self.weights[0]))]\n",
    "        for w in self.weights[1:]:\n",
    "            values.append(self.activator.sig(np.dot(values[-1], w)))\n",
    "        return values\n",
    "\n",
    "    def train_batch(self, training_inputs: np.ndarray, training_outputs: np.ndarray):\n",
    "        values = self.__propagate__(training_inputs)\n",
    "\n",
    "        gradients = [self.activator.err_gradient(training_outputs - values[-1], values[-1])]  # reversed order, output to input\n",
    "        for i in range(len(self.weights)-1, 0, -1):\n",
    "            gradients.append(self.activator.err_gradient(np.dot(gradients[-1], self.weights[i].T), values[i-1]))\n",
    "        gradients.reverse()  # straight order, input to output\n",
    "\n",
    "        for i in range(len(self.weights)-1, 0, -1):\n",
    "            self.weights[i] += np.dot(values[i-1].T, gradients[i])\n",
    "        self.weights[0] += np.dot(training_inputs.T, gradients[0])\n"
   ]
  },
  {
   "cell_type": "code",
   "execution_count": 2,
   "metadata": {},
   "outputs": [],
   "source": [
    "training_data = np.array([\n",
    "    [0, 0, 0, 0],\n",
    "    [0, 0, 1, 0],\n",
    "    [0, 1, 0, 0],\n",
    "    [0, 1, 1, 0],\n",
    "    [1, 0, 0, 1],\n",
    "    [1, 0, 1, 1],\n",
    "    [1, 1, 0, 1],\n",
    "    [1, 1, 1, 1]\n",
    "])\n",
    "network = Pontmaster([3, 5, 6, 1])\n"
   ]
  },
  {
   "cell_type": "code",
   "execution_count": 3,
   "metadata": {},
   "outputs": [],
   "source": [
    "\n",
    "network.train_repeatedly(training_data)\n"
   ]
  },
  {
   "cell_type": "code",
   "execution_count": 4,
   "metadata": {},
   "outputs": [
    {
     "name": "stdout",
     "output_type": "stream",
     "text": [
      "Results:\n",
      "[[0.00542405]\n",
      " [0.00204516]\n",
      " [0.00200835]\n",
      " [0.00118406]\n",
      " [0.9970519 ]\n",
      " [0.99736724]\n",
      " [0.99702747]\n",
      " [0.99700365]]\n",
      "Mean error:\n",
      "0.00011101475935478976\n"
     ]
    }
   ],
   "source": [
    "res, errs = network.test_many_rows(training_data)\n",
    "mean = errs.mean()\n",
    "print(\"Results:\")\n",
    "print(res)\n",
    "print(\"Mean error:\")\n",
    "print(mean)"
   ]
  }
 ],
 "metadata": {
  "kernelspec": {
   "display_name": "Python 3.10.8 64-bit",
   "language": "python",
   "name": "python3"
  },
  "language_info": {
   "codemirror_mode": {
    "name": "ipython",
    "version": 3
   },
   "file_extension": ".py",
   "mimetype": "text/x-python",
   "name": "python",
   "nbconvert_exporter": "python",
   "pygments_lexer": "ipython3",
   "version": "3.10.8"
  },
  "orig_nbformat": 4,
  "vscode": {
   "interpreter": {
    "hash": "c19fa61d258bb2b35aae2ada233c33e2817c1ce895aa48acba720c6bf7cbe3cb"
   }
  }
 },
 "nbformat": 4,
 "nbformat_minor": 2
}

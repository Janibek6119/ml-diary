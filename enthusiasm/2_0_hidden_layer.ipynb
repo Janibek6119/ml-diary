{
 "cells": [
  {
   "cell_type": "code",
   "execution_count": 1,
   "metadata": {},
   "outputs": [
    {
     "name": "stdout",
     "output_type": "stream",
     "text": [
      "W1:\n",
      "[[-0.16595599  0.44064899 -0.99977125 -0.39533485 -0.70648822]\n",
      " [-0.81532281 -0.62747958 -0.30887855 -0.20646505  0.07763347]\n",
      " [-0.16161097  0.370439   -0.5910955   0.75623487 -0.94522481]]\n",
      "W2:\n",
      "[[ 0.34093502]\n",
      " [-0.1653904 ]\n",
      " [ 0.11737966]\n",
      " [-0.71922612]\n",
      " [-0.60379702]]\n",
      "ERROR:\n",
      "[[ 0.37401057]\n",
      " [ 0.36407664]\n",
      " [ 0.36829928]\n",
      " [ 0.35903039]\n",
      " [-0.5990763 ]\n",
      " [-0.6160442 ]\n",
      " [-0.60386901]\n",
      " [-0.61857754]]\n",
      "COST:\n",
      "0.6982852273376398\n"
     ]
    }
   ],
   "source": [
    "import numpy as np\n",
    "\n",
    "def lambda_sum(w, lambd):\n",
    "    return np.mean(lambd * w ** 2) / 2\n",
    "\n",
    "class ActivationManager():\n",
    "    def activate(self, z):\n",
    "        pass\n",
    "\n",
    "    def derivate(self, a):\n",
    "        pass\n",
    "\n",
    "    def cost(self, predictions, truth, w=None, lambd=None):\n",
    "        pass\n",
    "\n",
    "\n",
    "class SigmoidActivator(ActivationManager):\n",
    "    def activate(self, z):\n",
    "        return 1 / (1 + np.exp(-z))\n",
    "\n",
    "    def derivate(self, a):\n",
    "        return a * (1-a)\n",
    "\n",
    "    def cost(self, predictions, truth, w=None, lambd=None):\n",
    "        # if np.any(f == 1) or np.any(f == 0):\n",
    "        # return \"NAN\"\n",
    "        a = truth * np.log(predictions)\n",
    "        b = (1 - truth) * np.log(1 - predictions)\n",
    "        result = -np.mean(a+b)\n",
    "        if w and lambd:\n",
    "            result += lambda_sum(w, lambd)\n",
    "        return result\n",
    "\n",
    "\n",
    "class LinearActivator(ActivationManager):\n",
    "    def activate(self, z):\n",
    "        return z\n",
    "\n",
    "    def cost(self, predictions, truth, w=None, lambd=None):\n",
    "        result = np.mean((predictions - truth)**2) / 2\n",
    "        if w and lambd:\n",
    "            result += lambda_sum(w, lambd)\n",
    "        return result\n",
    "\n",
    "    def derivate(self, a):\n",
    "        return 1\n",
    "\n",
    "\n",
    "training_data = np.array([\n",
    "    [0, 0, 0, 0],\n",
    "    [0, 0, 1, 0],\n",
    "    [0, 1, 0, 0],\n",
    "    [0, 1, 1, 0],\n",
    "    [1, 0, 0, 1],\n",
    "    [1, 0, 1, 1],\n",
    "    [1, 1, 0, 1],\n",
    "    [1, 1, 1, 1]\n",
    "])  \n",
    "x_train = training_data[:, 0:3]\n",
    "y_train = training_data[:, 3:]\n",
    "\n",
    "np.random.seed(1)\n",
    "\n",
    "w1 = 2 * np.random.random((3, 5)) - 1\n",
    "w2 = 2 * np.random.random((5, 1)) - 1\n",
    "\n",
    "activator1 = SigmoidActivator()\n",
    "activator2 = SigmoidActivator()\n",
    "z1 = np.dot(x_train, w1)\n",
    "a1 = activator1.activate(z1)\n",
    "z2 = np.dot(a1, w2)\n",
    "a2 = activator2.activate(z2)\n",
    "e2 = a2 - y_train\n",
    "\n",
    "np.set_printoptions(precision=8, suppress=True)\n",
    "print(\"W1:\")\n",
    "print(w1)\n",
    "print(\"W2:\")\n",
    "print(w2)\n",
    "print(\"ERROR:\")\n",
    "print(e2)\n",
    "print(\"COST:\")\n",
    "print(activator2.cost(a2, y_train))"
   ]
  },
  {
   "cell_type": "code",
   "execution_count": 2,
   "metadata": {},
   "outputs": [
    {
     "name": "stdout",
     "output_type": "stream",
     "text": [
      "W1:\n",
      "[[ 2.81046414  3.12207706 -2.77364895 -3.80383604 -3.47954034]\n",
      " [-0.24974628 -0.38502157 -0.09585878  0.10552988  0.44435863]\n",
      " [-0.04044714 -0.01531159 -0.12161085  0.80911134  0.09980332]]\n",
      "W2:\n",
      "[[ 2.94652147]\n",
      " [ 3.55033955]\n",
      " [-4.3928055 ]\n",
      " [-5.91727842]\n",
      " [-5.55252218]]\n",
      "ERROR:\n",
      "[[ 0.00916803]\n",
      " [ 0.00282371]\n",
      " [ 0.00284012]\n",
      " [ 0.00090099]\n",
      " [-0.00358801]\n",
      " [-0.00416876]\n",
      " [-0.00433748]\n",
      " [-0.00518665]]\n",
      "COST:\n",
      "0.004137822030140665\n"
     ]
    }
   ],
   "source": [
    "costs = []\n",
    "for i in range(10000):\n",
    "    z1 = np.dot(x_train, w1)\n",
    "    a1 = activator1.activate(z1)\n",
    "    z2 = np.dot(a1, w2)\n",
    "    a2 = activator2.activate(z2)\n",
    "\n",
    "    costs.append(activator2.cost(a2, y_train))\n",
    "\n",
    "    e2 = a2 - y_train\n",
    "    g2 = e2 * activator2.derivate(a2)\n",
    "    e1 = np.dot(g2, w2.T)\n",
    "    g1 = e1 * activator1.derivate(a1)\n",
    "\n",
    "    gw2 = np.dot(a1.T, g2)\n",
    "    gw1 = np.dot(x_train.T, g1)\n",
    "\n",
    "    w2 -= gw2\n",
    "    w1 -= gw1\n",
    "\n",
    "print(\"W1:\")\n",
    "print(w1)\n",
    "print(\"W2:\")\n",
    "print(w2)\n",
    "print(\"ERROR:\")\n",
    "print(e2)\n",
    "print(\"COST:\")\n",
    "print(costs[-1])"
   ]
  },
  {
   "cell_type": "code",
   "execution_count": 3,
   "metadata": {},
   "outputs": [
    {
     "data": {
      "image/png": "[encoded data removed]",
      "text/plain": [
       "<Figure size 640x480 with 1 Axes>"
      ]
     },
     "metadata": {},
     "output_type": "display_data"
    }
   ],
   "source": [
    "from matplotlib import pyplot as plt\n",
    "plt.plot(costs)\n",
    "plt.yscale('log')\n",
    "plt.grid(True)\n",
    "plt.show()"
   ]
  }
 ],
 "metadata": {
  "kernelspec": {
   "display_name": "Python 3.10.8 64-bit",
   "language": "python",
   "name": "python3"
  },
  "language_info": {
   "codemirror_mode": {
    "name": "ipython",
    "version": 3
   },
   "file_extension": ".py",
   "mimetype": "text/x-python",
   "name": "python",
   "nbconvert_exporter": "python",
   "pygments_lexer": "ipython3",
   "version": "3.10.8"
  },
  "orig_nbformat": 4,
  "vscode": {
   "interpreter": {
    "hash": "c19fa61d258bb2b35aae2ada233c33e2817c1ce895aa48acba720c6bf7cbe3cb"
   }
  }
 },
 "nbformat": 4,
 "nbformat_minor": 2
}

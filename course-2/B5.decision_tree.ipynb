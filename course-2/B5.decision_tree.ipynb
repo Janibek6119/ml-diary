{
 "cells": [
  {
   "cell_type": "code",
   "execution_count": null,
   "metadata": {},
   "outputs": [],
   "source": [
    "import pandas as pd\n",
    "import numpy as np\n",
    "from matplotlib import pyplot as plt\n",
    "\n",
    "\n",
    "def log2(p):\n",
    "    return np.ma.log2(p).filled(0)\n",
    "\n",
    "\n",
    "def dataframe_entropy(d: pd.DataFrame, column: str):\n",
    "    return entropy_singular(d[column].value_counts()[0] / len(d))\n",
    "\n",
    "\n",
    "def entropy(p):\n",
    "    ap = 1-p\n",
    "    return -(p*log2(p) + ap*log2(ap))\n",
    "\n",
    "\n",
    "def entropy_singular(p):\n",
    "    if p == 0 or p == 1:\n",
    "        return 0\n",
    "    ap = 1-p\n",
    "    return -(p*np.log2(p) + ap*np.log2(ap))\n",
    "\n",
    "\n",
    "raw_dataset = pd.read_csv(\"./dogscats.csv\")\n",
    "raw_dataset.tail()\n"
   ]
  },
  {
   "cell_type": "code",
   "execution_count": null,
   "metadata": {},
   "outputs": [],
   "source": [
    "dataset = raw_dataset.copy()\n",
    "\n",
    "\n",
    "def dt_split(ds: pd.DataFrame, by: str, ignore: list[str] = [], verbose=False):\n",
    "    uniques = ds[by].unique()\n",
    "    ruler = uniques[0]\n",
    "    BASE_ENTROPY = dataframe_entropy(ds, by)\n",
    "    if verbose:\n",
    "        print(f\"Unique values in {by}: {uniques}\")\n",
    "        print(f\"BASE ENTROPY: {BASE_ENTROPY}\")\n",
    "    SPLIT_ENTROPIES_VERBOSE = {}\n",
    "    SPLIT_ENTROPIES = []\n",
    "    for col in ds.columns[:-1]:\n",
    "        if col in ignore:\n",
    "            continue\n",
    "        (dgr1n, dgr1), (dgr2n, dgr2) = ds.groupby(col)\n",
    "        entr1 = dataframe_entropy(dgr1, by)\n",
    "        entr2 = dataframe_entropy(dgr2, by)\n",
    "        avg = (entr1 * len(dgr1) + entr2 * len(dgr2)) / len(ds)\n",
    "        reduction = BASE_ENTROPY - avg\n",
    "        SPLIT_ENTROPIES.append([col, reduction])\n",
    "        SPLIT_ENTROPIES_VERBOSE[col] = (entr1, entr2, avg, reduction)\n",
    "        if verbose:\n",
    "            print(\"--------------------------\")\n",
    "            print(f\"{col}:\")\n",
    "            vc = dgr1[by].value_counts()\n",
    "            print(f\"{vc[ruler] if ruler in vc else 0}/{len(dgr1)} {dgr1n} --> E {entr1}\")\n",
    "            vc = dgr2[by].value_counts()\n",
    "            print(f\"{vc[ruler] if ruler in vc else 0}/{len(dgr2)} {dgr2n} --> E {entr2}\")\n",
    "            print(f\"A {avg}\")\n",
    "            print(f\"R {reduction}\")\n",
    "            print(\"--------------------------\")\n",
    "    SPLIT_ENTROPIES = np.array(SPLIT_ENTROPIES)\n",
    "    winner = SPLIT_ENTROPIES[np.argmax(SPLIT_ENTROPIES[:,1])][0]\n",
    "    sufficient = SPLIT_ENTROPIES_VERBOSE[winner][2] == 0\n",
    "    return winner, sufficient, SPLIT_ENTROPIES_VERBOSE\n",
    "\n",
    "def recursive_split(ds: pd.DataFrame, by: str, attach_to: dict|None=None, ignore: list[str]=[], verbose=False):\n",
    "    if attach_to is None:\n",
    "        attach_to = {}\n",
    "    w, ws, wv = dt_split(ds=ds,by=by,ignore=ignore,verbose=verbose)\n",
    "    if ws:\n",
    "        attach_to[w] = None\n",
    "    else:\n",
    "        attach_to[w] = {}\n",
    "        s1,s2 = ds.groupby(w)\n",
    "        recursive_split(ds=s1[1],by=by,attach_to=attach_to[w],ignore=[*ignore,w],verbose=verbose)\n",
    "        recursive_split(ds=s2[1],by=by,attach_to=attach_to[w],ignore=[*ignore,w],verbose=verbose)\n",
    "    return attach_to\n",
    "\n",
    "tree = recursive_split(dataset,\"Cat\")\n",
    "print(tree)"
   ]
  }
 ],
 "metadata": {
  "kernelspec": {
   "display_name": "Python 3.10.8 64-bit",
   "language": "python",
   "name": "python3"
  },
  "language_info": {
   "codemirror_mode": {
    "name": "ipython",
    "version": 3
   },
   "file_extension": ".py",
   "mimetype": "text/x-python",
   "name": "python",
   "nbconvert_exporter": "python",
   "pygments_lexer": "ipython3",
   "version": "3.10.8"
  },
  "orig_nbformat": 4,
  "vscode": {
   "interpreter": {
    "hash": "c19fa61d258bb2b35aae2ada233c33e2817c1ce895aa48acba720c6bf7cbe3cb"
   }
  }
 },
 "nbformat": 4,
 "nbformat_minor": 2
}

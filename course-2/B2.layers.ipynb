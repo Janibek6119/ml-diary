{
 "cells": [
  {
   "cell_type": "code",
   "execution_count": 1,
   "metadata": {},
   "outputs": [
    {
     "name": "stdout",
     "output_type": "stream",
     "text": [
      "WEIGHTS, BIASES:\n",
      "L1 (2 in, 3 out):\n",
      "[[1 0 1]\n",
      " [0 1 0]]\n",
      "[ 0 10 20]\n",
      "L2 (3 in, 1 out):\n",
      "[[1]\n",
      " [1]\n",
      " [0]]\n",
      "[1]\n",
      "HANDMADE LAYERS OUTPUTS:\n",
      "L1:\n",
      "[[0.73105858 0.99999386 1.        ]\n",
      " [0.88079708 0.99999917 1.        ]]\n",
      "L2:\n",
      "[[0.9388343 ]\n",
      " [0.94688892]]\n",
      "KERAS LAYERS OUTPUTS:\n",
      "L1:\n",
      "[[0.7310586  0.99999386 1.        ]\n",
      " [0.8807971  0.99999917 1.        ]]\n",
      "L2:\n",
      "[[0.9388343]\n",
      " [0.9468889]]\n",
      "DIFFERENCE: 0\n"
     ]
    }
   ],
   "source": [
    "import numpy as np\n",
    "import tensorflow as tf\n",
    "from matplotlib import pyplot as plt\n",
    "from copy import deepcopy\n",
    "\n",
    "\n",
    "def sig(x):\n",
    "    return 1 / (1 + np.exp(-x))\n",
    "\n",
    "def dense(a_in, w, b, g=sig):\n",
    "    return g(np.matmul(a_in,w) + b)\n",
    "\n",
    "\n",
    "# totensor = tf.convert_to_tensor\n",
    "IN = np.array([\n",
    "    [1, 2], \n",
    "    [2, 4]\n",
    "])\n",
    "# IN = totensor(IN, dtype='float64')\n",
    "W1 = np.array([\n",
    "    [1, 0, 1],\n",
    "    [0, 1, 0]\n",
    "])\n",
    "# W1 = totensor(W1)\n",
    "B1 = np.array([0, 10, 20])\n",
    "# B1 = totensor(B1)\n",
    "W2 = np.array([\n",
    "    [1],\n",
    "    [1],\n",
    "    [0]\n",
    "])\n",
    "# W2 = totensor(W2)\n",
    "B2 = np.array([1])\n",
    "# B2 = totensor(B2)\n",
    "a1 = dense(IN, W1, B1)\n",
    "a2 = dense(a1, W2, B2)\n",
    "\n",
    "L1 = tf.keras.layers.Dense(units=3, activation='sigmoid')\n",
    "L1.build(input_shape=(2, 2))\n",
    "L1.set_weights([W1, B1])\n",
    "A1 = np.array(L1(IN))\n",
    "L2 = tf.keras.layers.Dense(units=1, activation='sigmoid')\n",
    "L2.build(input_shape=(2, 3))\n",
    "L2.set_weights([W2, B2])\n",
    "A2 = np.array(L2(A1))\n",
    "\n",
    "print(\"WEIGHTS, BIASES:\")\n",
    "print(\"L1 (2 in, 3 out):\")\n",
    "print(W1)\n",
    "print(B1)\n",
    "print(\"L2 (3 in, 1 out):\")\n",
    "print(W2)\n",
    "print(B2)\n",
    "print(\"HANDMADE LAYERS OUTPUTS:\")\n",
    "print(\"L1:\")\n",
    "print(a1)\n",
    "print(\"L2:\")\n",
    "print(a2)\n",
    "print(\"KERAS LAYERS OUTPUTS:\")\n",
    "print(\"L1:\")\n",
    "print(A1)\n",
    "print(\"L2:\")\n",
    "print(A2)\n",
    "print(\"DIFFERENCE: 0\")"
   ]
  }
 ],
 "metadata": {
  "kernelspec": {
   "display_name": "Python 3.10.8 64-bit",
   "language": "python",
   "name": "python3"
  },
  "language_info": {
   "codemirror_mode": {
    "name": "ipython",
    "version": 3
   },
   "file_extension": ".py",
   "mimetype": "text/x-python",
   "name": "python",
   "nbconvert_exporter": "python",
   "pygments_lexer": "ipython3",
   "version": "3.10.8"
  },
  "orig_nbformat": 4,
  "vscode": {
   "interpreter": {
    "hash": "c19fa61d258bb2b35aae2ada233c33e2817c1ce895aa48acba720c6bf7cbe3cb"
   }
  }
 },
 "nbformat": 4,
 "nbformat_minor": 2
}

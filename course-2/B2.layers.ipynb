{
 "cells": [
  {
   "cell_type": "code",
   "execution_count": 30,
   "metadata": {},
   "outputs": [
    {
     "name": "stdout",
     "output_type": "stream",
     "text": [
      "tf.Tensor(\n",
      "[[0.27145034 0.42084944 0.72966075]\n",
      " [0.12190068 0.34556878 0.8792985 ]], shape=(2, 3), dtype=float32)\n",
      "tf.Tensor(\n",
      "[[0.25862265]\n",
      " [0.22834633]], shape=(2, 1), dtype=float32)\n"
     ]
    },
    {
     "data": {
      "text/plain": [
       "True"
      ]
     },
     "execution_count": 30,
     "metadata": {},
     "output_type": "execute_result"
    }
   ],
   "source": [
    "import numpy as np\n",
    "import tensorflow as tf\n",
    "from matplotlib import pyplot as plt\n",
    "from copy import deepcopy\n",
    "\n",
    "\n",
    "def sig(x):\n",
    "    return 1 / (1 + np.exp(-x))\n",
    "\n",
    "def dense(a_in, w, b, g=sig):\n",
    "    return g(np.matmul(a_in,w) + b)\n",
    "\n",
    "\n",
    "# totensor = tf.convert_to_tensor\n",
    "IN = np.array([[1, 2], [2, 4]])\n",
    "# IN = totensor(IN, dtype='float64')\n",
    "W1 = np.array([\n",
    "    [1, 0, 1],\n",
    "    [0, 1, 0]\n",
    "])\n",
    "# W1 = totensor(W1)\n",
    "B1 = np.array([0, 10, 20])\n",
    "# B1 = totensor(B1)\n",
    "W2 = np.array([\n",
    "    [1],\n",
    "    [1],\n",
    "    [0]\n",
    "])\n",
    "# W2 = totensor(W2)\n",
    "B2 = np.array([1])\n",
    "# B2 = totensor(B2)\n",
    "a1 = dense(IN, W1, B1)\n",
    "a2 = dense(a1, W2, B2)\n",
    "\n",
    "L1 = tf.keras.layers.Dense(units=3, activation='sigmoid')\n",
    "print(L1(IN))\n",
    "L1.set_weights([W1, B1])\n",
    "A1 = np.array(L1(IN))\n",
    "L2 = tf.keras.layers.Dense(units=1, activation='sigmoid')\n",
    "print(L2(A1))\n",
    "L2.set_weights([W2, B2])\n",
    "A2 = np.array(L2(A1))"
   ]
  }
 ],
 "metadata": {
  "kernelspec": {
   "display_name": "Python 3.10.8 64-bit",
   "language": "python",
   "name": "python3"
  },
  "language_info": {
   "codemirror_mode": {
    "name": "ipython",
    "version": 3
   },
   "file_extension": ".py",
   "mimetype": "text/x-python",
   "name": "python",
   "nbconvert_exporter": "python",
   "pygments_lexer": "ipython3",
   "version": "3.10.8"
  },
  "orig_nbformat": 4,
  "vscode": {
   "interpreter": {
    "hash": "c19fa61d258bb2b35aae2ada233c33e2817c1ce895aa48acba720c6bf7cbe3cb"
   }
  }
 },
 "nbformat": 4,
 "nbformat_minor": 2
}

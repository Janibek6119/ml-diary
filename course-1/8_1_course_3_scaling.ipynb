{
 "cells": [
  {
   "cell_type": "code",
   "execution_count": 1,
   "metadata": {},
   "outputs": [
    {
     "name": "stdout",
     "output_type": "stream",
     "text": [
      "Normalized inputs:\n",
      "[[ 1.          1.         -1.          1.        ]\n",
      " [-0.09904153 -0.33333333  1.          0.33333333]\n",
      " [ 0.08945687 -0.33333333  1.         -1.        ]\n",
      " [ 0.19488818  0.33333333  1.         -1.        ]\n",
      " [-1.         -1.         -1.         -0.2       ]]\n",
      "54765.4\n",
      "(array([-72.60255591, -45.86666667, -59.6       ,  40.45333333]), -314.8)\n",
      "[0. 0. 0. 0. 0.]\n"
     ]
    }
   ],
   "source": [
    "import numpy as np\n",
    "import math\n",
    "from matplotlib import pyplot as plt\n",
    "\n",
    "class Normalizer:\n",
    "    \"\"\"\n",
    "    The Great Normalizer\n",
    "    \"\"\"\n",
    "    mins: np.ndarray\n",
    "    maxs: np.ndarray\n",
    "    span: np.ndarray\n",
    "    mids: np.ndarray\n",
    "\n",
    "    def __init__(self, reference_inputs: np.ndarray):\n",
    "        self.mins = np.min(reference_inputs, 0)\n",
    "        self.maxs = np.max(reference_inputs, 0)\n",
    "        self.span = self.maxs - self.mins\n",
    "        # mids = span / 2 + mins\n",
    "        # and thus:\n",
    "        # mids = (maxs + mins) / 2\n",
    "        self.mids = (self.maxs + self.mins) / 2\n",
    "\n",
    "    def scale(self, set: np.ndarray):\n",
    "        # k0 = (reference_inputs[0] - mids) / (span / 2)\n",
    "        # and thus:\n",
    "        # k0 = 2*(reference_inputs[0] - mids) / span\n",
    "        return 2 * np.subtract(set, self.mids) / self.span\n",
    "\n",
    "dataset = np.array([\n",
    "    [2104, 5, 1, 45, 460],\n",
    "    [1416, 3, 2, 40, 232],\n",
    "    [1534, 3, 2, 30, 315],\n",
    "    [1600, 4, 2, 30, 389],\n",
    "    [852, 2, 1, 36, 178],\n",
    "])\n",
    "# inputs = dataset[:, :-1]\n",
    "raw_inputs = dataset[:, :-1]\n",
    "inputs = Normalizer(raw_inputs).scale(raw_inputs)\n",
    "print(\"Normalized inputs:\")\n",
    "print(inputs)\n",
    "outputs = dataset[:, -1]\n",
    "\n",
    "w = [0,0,0,0]\n",
    "b = 0\n",
    "alpha = 1\n",
    "\n",
    "\n",
    "def price(x):\n",
    "    \"\"\"\n",
    "    input:\n",
    "        `N`[1...inf) input rows\n",
    "    return:\n",
    "        `1D` arr of `N` predictions\n",
    "    \"\"\"\n",
    "    return np.dot(w, x.T) + b # w is applied to N[1...inf) rows of x. Result: 1D arr of N predictions\n",
    "\n",
    "def prices():\n",
    "    return price(inputs)\n",
    "\n",
    "def cost():\n",
    "    return np.mean((prices() - outputs) ** 2) / 2\n",
    "\n",
    "\n",
    "def gradients():\n",
    "    err = prices() - outputs\n",
    "    gw = np.dot(err, inputs) / len(err)\n",
    "    gb = np.mean(err)\n",
    "    return gw, gb\n",
    "\n",
    "\n",
    "print(cost())\n",
    "print(gradients())\n",
    "print(prices())\n"
   ]
  },
  {
   "cell_type": "code",
   "execution_count": 2,
   "metadata": {},
   "outputs": [
    {
     "name": "stdout",
     "output_type": "stream",
     "text": [
      "Iteration    0: Cost 3.99e+03  delta: 5.07801e+04 w: [ 72.60255591  45.86666667  59.6        -40.45333333], b: 3.14800e+02\n",
      "Iteration 1000: Cost 2.79e-12  delta: 7.96918e-14 w: [ 72.67903555  99.50602023 -25.04904516 -51.97509192], b: 3.14741e+02\n",
      "Iteration 2000: Cost 1.58e-24  delta: 2.52839e-26 w: [ 72.67902086  99.50603344 -25.04904327 -51.9750905 ], b: 3.14741e+02\n",
      "Iteration 2025: WARNING: COST NOT CHANGING. BREAKING THE TRAINING SESSION...\n",
      "7.919608130341683e-25\n",
      "(array([ 1.13250978e-13, -9.47390314e-14, -1.13686838e-14, -1.28845083e-14]), -1.1368683772161604e-14)\n",
      "[460. 232. 315. 389. 178.]\n"
     ]
    }
   ],
   "source": [
    "pre_cost = cost()\n",
    "delta = []\n",
    "divergences = 0\n",
    "for i in range(10000):\n",
    "  gw,gb = gradients()\n",
    "  # print((gw,gb))\n",
    "  w -= alpha*gw\n",
    "  b -= alpha*gb\n",
    "  new_cost = cost()\n",
    "  delta.append(pre_cost - new_cost)\n",
    "  if new_cost > pre_cost:\n",
    "    divergences += 1\n",
    "    if divergences > 3:\n",
    "      print(\"WARNING: COST INCREASED 3 TIMES IN A ROW. BREAKING THE TRAINING SESSION...\")\n",
    "      break\n",
    "  else:\n",
    "    divergences = 0\n",
    "\n",
    "  pre_cost = new_cost\n",
    "  if i % 1000 == 0 or i == 9999:\n",
    "      print(f\"Iteration {i:4}: Cost {cost():0.2e} \",\n",
    "            # f\"dj_dw: {gw}, dj_db: {gb: 0.3e}  \",\n",
    "            f\"delta: {delta[-1]:0.5e}\",\n",
    "            f\"w: {w}, b:{b: 0.5e}\")\n",
    "  if delta[-1] == 0:\n",
    "    print(f\"Iteration {i:4}: WARNING: COST NOT CHANGING. BREAKING THE TRAINING SESSION...\")\n",
    "    break\n",
    "print(cost())\n",
    "print(gradients())\n",
    "print(prices())\n",
    "\n",
    "\n"
   ]
  },
  {
   "cell_type": "code",
   "execution_count": 3,
   "metadata": {},
   "outputs": [
    {
     "data": {
      "image/png": "[encoded data removed]",
      "text/plain": [
       "<Figure size 640x480 with 1 Axes>"
      ]
     },
     "metadata": {},
     "output_type": "display_data"
    }
   ],
   "source": [
    "\n",
    "plt.plot(delta)\n",
    "plt.yscale('log')\n",
    "plt.grid(True)\n",
    "plt.show()\n"
   ]
  }
 ],
 "metadata": {
  "kernelspec": {
   "display_name": "Python 3.11.0 64-bit",
   "language": "python",
   "name": "python3"
  },
  "language_info": {
   "codemirror_mode": {
    "name": "ipython",
    "version": 3
   },
   "file_extension": ".py",
   "mimetype": "text/x-python",
   "name": "python",
   "nbconvert_exporter": "python",
   "pygments_lexer": "ipython3",
   "version": "3.10.8"
  },
  "orig_nbformat": 4,
  "vscode": {
   "interpreter": {
    "hash": "c261aea317cc0286b3b3261fbba9abdec21eaa57589985bb7a274bf54d6cc0a7"
   }
  }
 },
 "nbformat": 4,
 "nbformat_minor": 2
}

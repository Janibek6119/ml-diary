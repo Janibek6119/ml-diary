{
 "cells": [
  {
   "cell_type": "code",
   "execution_count": 5,
   "metadata": {},
   "outputs": [
    {
     "name": "stdout",
     "output_type": "stream",
     "text": [
      "54765.4\n"
     ]
    }
   ],
   "source": [
    "import numpy as np\n",
    "from matplotlib import pyplot as plt\n",
    "from copy import deepcopy\n",
    "\n",
    "\n",
    "class Normalizer:\n",
    "    \"\"\"\n",
    "    The Great Normalizer\n",
    "    \"\"\"\n",
    "    mins: np.ndarray\n",
    "    maxs: np.ndarray\n",
    "    span: np.ndarray\n",
    "    mids: np.ndarray\n",
    "\n",
    "    def __init__(self, reference_inputs: np.ndarray):\n",
    "        self.mins = np.min(reference_inputs, 0)\n",
    "        self.maxs = np.max(reference_inputs, 0)\n",
    "        self.span = self.maxs - self.mins\n",
    "        # mids = span / 2 + mins\n",
    "        # and thus:\n",
    "        # mids = (maxs + mins) / 2\n",
    "        self.mids = (self.maxs + self.mins) / 2\n",
    "\n",
    "    def scale(self, set: np.ndarray):\n",
    "        # k0 = (reference_inputs[0] - mids) / (span / 2)\n",
    "        # and thus:\n",
    "        # k0 = 2*(reference_inputs[0] - mids) / span\n",
    "        return 2 * np.subtract(set, self.mids) / self.span\n",
    "\n",
    "\n",
    "def shp(n: np.ndarray):\n",
    "    return n.reshape((-1, n.shape[-1]))\n",
    "\n",
    "\n",
    "def val(x: np.ndarray, w, b):\n",
    "    \"\"\"\n",
    "    input:\n",
    "        `N`[1...inf) input rows(M,)\n",
    "    return:\n",
    "        `2D(N,M)` arr of predictions\n",
    "    \"\"\"\n",
    "    return shp(np.dot(w, x.T)).T + b  # w is applied to N[1...inf) rows of x. Result: 2D(N, M) arr of predictions\n",
    "\n",
    "\n",
    "def pred(x, w, b):\n",
    "    return val(x, w, b)\n",
    "\n",
    "\n",
    "def polynom(inputs: np.ndarray, degree=3):\n",
    "    if degree < 2:\n",
    "        raise Exception(\"Degree should be at least 2\")\n",
    "\n",
    "    transposed = inputs.T\n",
    "    base = len(transposed)\n",
    "\n",
    "    pols = []\n",
    "    newgen = []\n",
    "    for i in range(base):\n",
    "        newgen.append([i])\n",
    "    pols.extend(newgen)\n",
    "\n",
    "    for deg in range(1, degree):\n",
    "        lastgen = newgen\n",
    "        newgen = []\n",
    "        for p in lastgen:\n",
    "            for i in range(p[-1], base):\n",
    "                pnext = [*p, i]\n",
    "                pnext.sort()\n",
    "                newgen.append(pnext)\n",
    "        pols.extend(newgen)\n",
    "\n",
    "    new_inputs = []\n",
    "    for p in pols:\n",
    "        new_inputs.append(deepcopy(transposed[p[0]]))\n",
    "        for i in p[1:]:\n",
    "            new_inputs[-1] *= transposed[i]\n",
    "    return np.array(new_inputs).T\n",
    "\n",
    "\n",
    "def lambda_sum(w):\n",
    "    return LAMBD * np.mean(w ** 2) / 2\n",
    "\n",
    "\n",
    "def cost(f, y, w):\n",
    "    return (np.mean((f - y)**2) + LAMBD * np.mean(w**2)) / 2\n",
    "\n",
    "\n",
    "def gradient(x, w, b, y):\n",
    "    f = pred(x, w, b)\n",
    "    err = f - y\n",
    "    gw = (np.dot(err.T, x) + LAMBD*w) / len(err)\n",
    "    gb = np.mean(err)\n",
    "    return gw, gb\n",
    "\n",
    "dataset = np.array([\n",
    "    [2104, 5, 1, 45, 460],\n",
    "    [1416, 3, 2, 40, 232],\n",
    "    [1534, 3, 2, 30, 315],\n",
    "    [1600, 4, 2, 30, 389],\n",
    "    [852, 2, 1, 36, 178],\n",
    "])\n",
    "x_train = dataset[:, :-1]\n",
    "normer = Normalizer(x_train)\n",
    "x_train = normer.scale(x_train)\n",
    "y_train = dataset[:, -1:]\n",
    "W = np.zeros((y_train.shape[-1],x_train.shape[-1]))\n",
    "B = 0\n",
    "ALPHA = 0.01\n",
    "LAMBD = 0\n",
    "\n",
    "\n",
    "print(cost(pred(x_train, W, B), y_train, W))\n",
    "gw, gb = gradient(x_train, W, B, y_train)\n"
   ]
  },
  {
   "cell_type": "code",
   "execution_count": 6,
   "metadata": {},
   "outputs": [
    {
     "name": "stderr",
     "output_type": "stream",
     "text": [
      "0.3101579376437339: 100%|██████████| 10000/10000 [00:05<00:00, 1714.35it/s]"
     ]
    },
    {
     "name": "stdout",
     "output_type": "stream",
     "text": [
      "[[ 0.21224695]\n",
      " [-0.24300598]\n",
      " [ 1.31401354]\n",
      " [-1.10843348]\n",
      " [-0.20548071]]\n"
     ]
    },
    {
     "name": "stderr",
     "output_type": "stream",
     "text": [
      "\n"
     ]
    }
   ],
   "source": [
    "from tqdm import tqdm\n",
    "from time import sleep\n",
    "from matplotlib import pyplot as plt\n",
    "\n",
    "with tqdm(range(10000)) as pbar:\n",
    "    for i in pbar:\n",
    "        # sleep(1)\n",
    "        gw, gb = gradient(x_train, W, B, y_train)\n",
    "        W -= ALPHA*gw\n",
    "        B -= ALPHA*gb\n",
    "        pbar.set_description(f\"{cost(pred(x_train, W, B), y_train, W)}\")\n",
    "\n",
    "f = pred(x_train,W,B)\n",
    "err = f - y_train\n",
    "print(err)"
   ]
  }
 ],
 "metadata": {
  "kernelspec": {
   "display_name": "Python 3.10.8 64-bit",
   "language": "python",
   "name": "python3"
  },
  "language_info": {
   "codemirror_mode": {
    "name": "ipython",
    "version": 3
   },
   "file_extension": ".py",
   "mimetype": "text/x-python",
   "name": "python",
   "nbconvert_exporter": "python",
   "pygments_lexer": "ipython3",
   "version": "3.10.8"
  },
  "orig_nbformat": 4,
  "vscode": {
   "interpreter": {
    "hash": "c19fa61d258bb2b35aae2ada233c33e2817c1ce895aa48acba720c6bf7cbe3cb"
   }
  }
 },
 "nbformat": 4,
 "nbformat_minor": 2
}

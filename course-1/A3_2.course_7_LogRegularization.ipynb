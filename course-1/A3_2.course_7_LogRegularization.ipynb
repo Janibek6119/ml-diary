{
 "cells": [
  {
   "cell_type": "code",
   "execution_count": 65,
   "metadata": {},
   "outputs": [
    {
     "data": {
      "text/plain": [
       "0.6931471805599452"
      ]
     },
     "execution_count": 65,
     "metadata": {},
     "output_type": "execute_result"
    }
   ],
   "source": [
    "import numpy as np\n",
    "from matplotlib import pyplot as plt\n",
    "from copy import deepcopy\n",
    "\n",
    "\n",
    "class Normalizer:\n",
    "    \"\"\"\n",
    "    The Great Normalizer\n",
    "    \"\"\"\n",
    "    mins: np.ndarray\n",
    "    maxs: np.ndarray\n",
    "    span: np.ndarray\n",
    "    mids: np.ndarray\n",
    "\n",
    "    def __init__(self, reference_inputs: np.ndarray):\n",
    "        self.mins = np.min(reference_inputs, 0)\n",
    "        self.maxs = np.max(reference_inputs, 0)\n",
    "        self.span = self.maxs - self.mins\n",
    "        # mids = span / 2 + mins\n",
    "        # and thus:\n",
    "        # mids = (maxs + mins) / 2\n",
    "        self.mids = (self.maxs + self.mins) / 2\n",
    "\n",
    "    def scale(self, set: np.ndarray):\n",
    "        # k0 = (reference_inputs[0] - mids) / (span / 2)\n",
    "        # and thus:\n",
    "        # k0 = 2*(reference_inputs[0] - mids) / span\n",
    "        return 2 * np.subtract(set, self.mids) / self.span\n",
    "\n",
    "def sig(x):\n",
    "    return 1 / (1 + np.exp(-x))\n",
    "\n",
    "\n",
    "def shp(n: np.ndarray):\n",
    "    return n.reshape((-1, n.shape[-1]))\n",
    "\n",
    "def val(x: np.ndarray, w, b):\n",
    "    \"\"\"\n",
    "    input:\n",
    "        `N`[1...inf) input rows(M,)\n",
    "    return:\n",
    "        `2D(N,M)` arr of predictions\n",
    "    \"\"\"\n",
    "    return shp(np.dot(w, x.T)).T + b  # w is applied to N[1...inf) rows of x. Result: 2D(N, M) arr of predictions\n",
    "\n",
    "\n",
    "def pred(x, w, b):\n",
    "    return sig(val(x, w, b))\n",
    "\n",
    "\n",
    "def polynom(inputs: np.ndarray, degree=6):\n",
    "    if degree == 1:\n",
    "        return inputs\n",
    "    if degree < 1:\n",
    "        raise Exception(\"Degree should be at least 1\")\n",
    "\n",
    "    transposed = inputs.T\n",
    "    base = len(transposed)\n",
    "\n",
    "    pols = []\n",
    "    degrees = []\n",
    "    newgen = []\n",
    "    for i in range(base):\n",
    "        newgen.append([i])\n",
    "        degrees.append(0)\n",
    "    pols.extend(newgen)\n",
    "\n",
    "    for deg in range(1, degree):\n",
    "        lastgen = newgen\n",
    "        newgen = []\n",
    "        for p in lastgen:\n",
    "            for i in range(p[-1], base):\n",
    "                pnext = [*p, i]\n",
    "                pnext.sort()\n",
    "                newgen.append(pnext)\n",
    "                degrees.append(deg)\n",
    "        pols.extend(newgen)\n",
    "\n",
    "    new_inputs = []\n",
    "    for p in pols:\n",
    "        new_inputs.append(deepcopy(transposed[p[0]]))\n",
    "        for i in p[1:]:\n",
    "            new_inputs[-1] *= transposed[i]\n",
    "    return np.array(new_inputs).T, degrees\n",
    "\n",
    "\n",
    "def generate_lambdas(per_degree, default=False):\n",
    "    if default:\n",
    "        return per_degree[0]\n",
    "    lambdas = []\n",
    "    for i in range(len(x_degs)):\n",
    "        deg = x_degs[i]\n",
    "        lam = per_degree[deg] if len(per_degree) > deg else per_degree[-1]\n",
    "        lambdas.append(lam)\n",
    "    return lambdas\n",
    "\n",
    "\n",
    "dataset = np.array([\n",
    "    [0, 0, 0],\n",
    "    [0, 1, 0],\n",
    "    [0, 2, 0],\n",
    "    [0, 3, 0],\n",
    "    [0, 4, 0],\n",
    "    [1, 0, 0],\n",
    "    [1, 1, 0],\n",
    "    [1, 2, 0],\n",
    "    [1, 3, 1],\n",
    "    [1, 4, 1],\n",
    "    [2, 0, 0],\n",
    "    [2, 1, 0],\n",
    "    [2, 2, 1],\n",
    "    [2, 3, 1],\n",
    "    [2, 4, 1],\n",
    "    [3, 0, 0],\n",
    "    [3, 1, 1],\n",
    "    [3, 2, 1],\n",
    "    [3, 3, 1],\n",
    "    [3, 4, 1],\n",
    "    [4, 0, 0],\n",
    "    [4, 1, 1],\n",
    "    [4, 2, 1],\n",
    "    [4, 3, 1],\n",
    "    [4, 4, 1],\n",
    "])\n",
    "x_train, x_degs = polynom(dataset[:, :-1])\n",
    "normer = Normalizer(x_train)\n",
    "x_train = normer.scale(x_train)\n",
    "y_train = dataset[:, -1:]\n",
    "W = np.zeros((y_train.shape[-1],x_train.shape[-1]))\n",
    "B = 0\n",
    "ALPHA = 0.2\n",
    "LAMBD = generate_lambdas([1,2,3])\n",
    "\n",
    "def lambda_sum(w):\n",
    "    return np.mean(LAMBD * w ** 2) / 2\n",
    "\n",
    "def cost(f, y,w):\n",
    "    if np.any(f == 1) or np.any(f == 0):\n",
    "        return \"NAN\"\n",
    "    a = y * np.log(f)\n",
    "    b = (1 - y) * np.log(1 - f)\n",
    "    return -np.mean(a+b) + lambda_sum(w)\n",
    "\n",
    "\n",
    "def gradient(x, w, b, y):\n",
    "    f = pred(x, w, b)\n",
    "    err = f - y\n",
    "    gw = (np.dot(err.T, x) + LAMBD*w) / len(err)\n",
    "    gb = np.mean(err)\n",
    "    return gw, gb\n",
    "\n",
    "\n",
    "def checkplot2Dheatmap(axes=None,fig=None,hfig=None):\n",
    "    check_set = []\n",
    "    rng = np.arange(0, 4 + 0.1, 0.1).round(1)\n",
    "    for i in rng:\n",
    "        for j in rng:\n",
    "            check_set.append([np.round(i, 1), np.round(j, 1)])\n",
    "    check_set = np.array(check_set)\n",
    "    check_set_scaled = normer.scale(polynom(check_set)[0])\n",
    "    preds = pred(check_set_scaled, W, B)\n",
    "    check_set = np.hstack((check_set, preds))\n",
    "\n",
    "    index = 0\n",
    "    resultmap = np.zeros((len(rng), len(rng)))\n",
    "    for i in range(len(rng)):\n",
    "        for j in range(len(rng)):\n",
    "            resultmap[i,j] = check_set[index, -1]\n",
    "            index += 1\n",
    "\n",
    "    if axes == None or fig==None or hfig==None:\n",
    "        fig = plt.figure()\n",
    "        axes = fig.add_subplot()\n",
    "        hfig = display(fig, display_id=True)\n",
    "    else:\n",
    "        axes.cla()\n",
    "    axes.imshow(resultmap, origin=\"lower\")\n",
    "    axes.set_yticks(np.arange(len(rng)), labels=rng)\n",
    "    axes.set_xticks(np.arange(len(rng)), labels=rng)\n",
    "    smols = np.array([x for x in dataset if x[-1] == 0])\n",
    "    highs = np.array([x for x in dataset if x[-1] == 1])\n",
    "    axes.scatter(smols[:, 0]*10, smols[:, 1]*10)\n",
    "    axes.scatter(highs[:, 0]*10, highs[:, 1]*10, c='red')\n",
    "    axes.locator_params(nbins=10)\n",
    "    fig.canvas.draw()\n",
    "    hfig.update(fig)\n",
    "    return axes,fig,hfig\n",
    "\n",
    "\n",
    "cost(pred(x_train, W, B), y_train, W)\n"
   ]
  },
  {
   "cell_type": "code",
   "execution_count": 75,
   "metadata": {},
   "outputs": [
    {
     "data": {
      "image/png": "[encoded data removed]",
      "text/plain": [
       "<Figure size 640x480 with 1 Axes>"
      ]
     },
     "metadata": {},
     "output_type": "display_data"
    },
    {
     "name": "stdout",
     "output_type": "stream",
     "text": [
      "NAN: 100%|██████████| 4000/4000 [00:02<00:00, 1417.20it/s]         \n"
     ]
    },
    {
     "data": {
      "text/plain": [
       "1.2665218333839504e-05"
      ]
     },
     "execution_count": 75,
     "metadata": {},
     "output_type": "execute_result"
    }
   ],
   "source": [
    "from tqdm import tqdm\n",
    "from time import sleep\n",
    "import sys\n",
    "\n",
    "axes, fig, hfig = checkplot2Dheatmap()\n",
    "LAMBD = generate_lambdas([0, 0, 0,11])\n",
    "with tqdm(range(4000), file=sys.stdout) as pbar:\n",
    "    for i in pbar:\n",
    "        # sleep(0.1)\n",
    "        gw, gb = gradient(x_train, W, B, y_train)\n",
    "        W -= ALPHA*gw\n",
    "        B -= ALPHA*gb\n",
    "        pbar.set_description(f\"{cost(pred(x_train, W, B), y_train, W)}\")\n",
    "        if i % 1000 == 0:\n",
    "            axes, fig, hfig = checkplot2Dheatmap(axes, fig, hfig)\n",
    "plt.close(fig)\n",
    "lambda_sum(W)\n"
   ]
  },
  {
   "cell_type": "code",
   "execution_count": 79,
   "metadata": {},
   "outputs": [
    {
     "data": {
      "text/plain": [
       "numpy.float64"
      ]
     },
     "execution_count": 79,
     "metadata": {},
     "output_type": "execute_result"
    }
   ],
   "source": [
    "# aa = np.array([99.8768768, 44.234234])\n",
    "# ww = [0.665465656, 0.121323313]\n",
    "# gg = 0\n",
    "# gg += aa[0]*ww[0]\n",
    "# gg += aa[1]*ww[1]\n",
    "# type(gg)"
   ]
  }
 ],
 "metadata": {
  "kernelspec": {
   "display_name": "Python 3.10.8 64-bit",
   "language": "python",
   "name": "python3"
  },
  "language_info": {
   "codemirror_mode": {
    "name": "ipython",
    "version": 3
   },
   "file_extension": ".py",
   "mimetype": "text/x-python",
   "name": "python",
   "nbconvert_exporter": "python",
   "pygments_lexer": "ipython3",
   "version": "3.10.8"
  },
  "orig_nbformat": 4,
  "vscode": {
   "interpreter": {
    "hash": "c19fa61d258bb2b35aae2ada233c33e2817c1ce895aa48acba720c6bf7cbe3cb"
   }
  }
 },
 "nbformat": 4,
 "nbformat_minor": 2
}

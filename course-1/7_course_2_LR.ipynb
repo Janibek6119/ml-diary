{
 "cells": [
  {
   "cell_type": "code",
   "execution_count": 1,
   "metadata": {},
   "outputs": [
    {
     "name": "stdout",
     "output_type": "stream",
     "text": [
      "54765.4\n",
      "(array([-5.107236e+05, -1.170600e+03, -5.020000e+02, -1.150160e+04]), -314.8)\n",
      "[0 0 0 0 0]\n"
     ]
    }
   ],
   "source": [
    "import numpy as np\n",
    "\n",
    "dataset = np.array([\n",
    "    [2104, 5, 1, 45, 460],\n",
    "    [1416, 3, 2, 40, 232],\n",
    "    [1534, 3, 2, 30, 315],\n",
    "    [1600, 4, 2, 30, 389],\n",
    "    [852, 2, 1, 36, 178],\n",
    "])\n",
    "inputs = dataset[:, :-1]\n",
    "outputs = dataset[:, -1]\n",
    "\n",
    "w = [0,0,0,0]\n",
    "b = 0\n",
    "alpha = 0.000_0001\n",
    "\n",
    "\n",
    "def price(x):\n",
    "    return np.dot(w, x.T) + b\n",
    "\n",
    "def prices():\n",
    "    return price(inputs)\n",
    "\n",
    "def cost():\n",
    "    return np.mean((prices() - outputs) ** 2) / 2\n",
    "\n",
    "\n",
    "def gradients():\n",
    "    err = prices() - outputs\n",
    "    gw = np.matmul(err, inputs) / len(err)\n",
    "    gb = np.mean(err)\n",
    "    return gw, gb\n",
    "\n",
    "\n",
    "print(cost())\n",
    "print(gradients())\n",
    "print(prices())"
   ]
  },
  {
   "cell_type": "code",
   "execution_count": 2,
   "metadata": {},
   "outputs": [
    {
     "name": "stdout",
     "output_type": "stream",
     "text": [
      "Iteration    0: Cost 3.18e+04  w: [5.107236e-02 1.170600e-04 5.020000e-05 1.150160e-03], b: 3.14800e-05\n",
      "Iteration 100000: Cost 5.89e+02  w: [ 0.23892996  0.0805123  -0.07323936 -1.20181612], b:-1.48620e-02\n",
      "Iteration 200000: Cost 5.58e+02  w: [ 0.25096433  0.15837001 -0.13758575 -1.73305453], b:-1.43514e-02\n",
      "Iteration 300000: Cost 5.52e+02  w: [ 0.25618832  0.23520475 -0.19777014 -1.96672854], b:-6.98282e-03\n",
      "Iteration 400000: Cost 5.50e+02  w: [ 0.25841181  0.3115232  -0.25597023 -2.06930367], b: 3.43461e-03\n",
      "Iteration 500000: Cost 5.49e+02  w: [ 0.25931338  0.38754878 -0.31314614 -2.11412169], b: 1.52224e-02\n",
      "Iteration 600000: Cost 5.48e+02  w: [ 0.25963259  0.46338011 -0.36972151 -2.13349572], b: 2.76409e-02\n",
      "Iteration 700000: Cost 5.47e+02  w: [ 0.25969526  0.53906083 -0.42588364 -2.14166231], b: 4.03642e-02\n",
      "Iteration 800000: Cost 5.46e+02  w: [ 0.25964495  0.61461035 -0.48171568 -2.14489384], b: 5.32485e-02\n",
      "Iteration 900000: Cost 5.45e+02  w: [ 0.25954491  0.69003744 -0.53725489 -2.14595381], b: 6.62304e-02\n",
      "Iteration 999999: Cost 5.44e+02  w: [ 0.25942301  0.76534536 -0.59251778 -2.14605975], b: 7.92816e-02\n",
      "543.973995026917\n",
      "(array([ 0.01279893, -7.52502297,  5.51287008, -0.01593231]), -1.3081125929571384)\n",
      "[452.56681546 282.69087462 334.76338734 352.65065139 144.78770823]\n"
     ]
    }
   ],
   "source": [
    "for i in range(1000000):\n",
    "  gw,gb = gradients()\n",
    "  # print((gw,gb))\n",
    "  w -= alpha*gw\n",
    "  b -= alpha*gb\n",
    "  if i % 100000 == 0 or i == 999999:\n",
    "      print(f\"Iteration {i:4}: Cost {cost():0.2e} \",\n",
    "            # f\"dj_dw: {gw}, dj_db: {gb: 0.3e}  \",\n",
    "            f\"w: {w}, b:{b: 0.5e}\")\n",
    "print(cost())\n",
    "print(gradients())\n",
    "print(prices())\n"
   ]
  }
 ],
 "metadata": {
  "kernelspec": {
   "display_name": "Python 3.10.8 64-bit",
   "language": "python",
   "name": "python3"
  },
  "language_info": {
   "codemirror_mode": {
    "name": "ipython",
    "version": 3
   },
   "file_extension": ".py",
   "mimetype": "text/x-python",
   "name": "python",
   "nbconvert_exporter": "python",
   "pygments_lexer": "ipython3",
   "version": "3.10.8"
  },
  "orig_nbformat": 4,
  "vscode": {
   "interpreter": {
    "hash": "c19fa61d258bb2b35aae2ada233c33e2817c1ce895aa48acba720c6bf7cbe3cb"
   }
  }
 },
 "nbformat": 4,
 "nbformat_minor": 2
}

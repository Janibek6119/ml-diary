{
 "cells": [
  {
   "cell_type": "code",
   "execution_count": 4,
   "metadata": {},
   "outputs": [
    {
     "name": "stdout",
     "output_type": "stream",
     "text": [
      "518.4119599999998\n",
      "(array([10890.624,    17.864,    15.712,   250.692]), 5.411999999999995)\n",
      "[463.7  287.5  338.4  361.6  149.86]\n"
     ]
    }
   ],
   "source": [
    "import numpy as np\n",
    "import math\n",
    "\n",
    "dataset = np.array([\n",
    "    [2104, 5, 1, 45, 460],\n",
    "    [1416, 3, 2, 40, 232],\n",
    "    [1534, 3, 2, 30, 315],\n",
    "    [1600, 4, 2, 30, 389],\n",
    "    [852, 2, 1, 36, 178],\n",
    "])\n",
    "inputs = dataset[:, :-1]\n",
    "outputs = dataset[:, -1]\n",
    "\n",
    "w = [0.25, 6.7, -1.5, -2.14]\n",
    "b = 2\n",
    "alpha = 0.000_0001\n",
    "\n",
    "\n",
    "def price(x):\n",
    "    return np.dot(w, x.T) + b\n",
    "\n",
    "def prices():\n",
    "    return price(inputs)\n",
    "\n",
    "def cost():\n",
    "    return np.mean((prices() - outputs) ** 2) / 2\n",
    "\n",
    "\n",
    "def gradients():\n",
    "    err = prices() - outputs\n",
    "    gw = np.matmul(err, inputs) / len(err)\n",
    "    gb = np.mean(err)\n",
    "    return gw, gb\n",
    "\n",
    "\n",
    "print(cost())\n",
    "print(gradients())\n",
    "print(prices())"
   ]
  },
  {
   "cell_type": "code",
   "execution_count": null,
   "metadata": {},
   "outputs": [],
   "source": [
    "for i in range(1000000):\n",
    "  gw,gb = gradients()\n",
    "  # print((gw,gb))\n",
    "  w -= alpha*gw\n",
    "  b -= alpha*gb\n",
    "  if i % 100000 == 0 or i == 999999:\n",
    "      print(f\"Iteration {i:4}: Cost {cost():0.2e} \",\n",
    "            # f\"dj_dw: {gw}, dj_db: {gb: 0.3e}  \",\n",
    "            f\"w: {w}, b:{b: 0.5e}\")\n",
    "print(cost())\n",
    "print(gradients())\n"
   ]
  },
  {
   "cell_type": "code",
   "execution_count": 2,
   "metadata": {},
   "outputs": [
    {
     "ename": "ValueError",
     "evalue": "shapes (4,5) and (2,5) not aligned: 5 (dim 1) != 2 (dim 0)",
     "output_type": "error",
     "traceback": [
      "\u001b[1;31m---------------------------------------------------------------------------\u001b[0m",
      "\u001b[1;31mValueError\u001b[0m                                Traceback (most recent call last)",
      "Cell \u001b[1;32mIn[2], line 28\u001b[0m\n\u001b[0;32m     26\u001b[0m k \u001b[39m=\u001b[39m np\u001b[39m.\u001b[39mdot(w[\u001b[39m0\u001b[39m], d)\n\u001b[0;32m     27\u001b[0m l \u001b[39m=\u001b[39m np\u001b[39m.\u001b[39mdot(w, d)\n\u001b[1;32m---> 28\u001b[0m m \u001b[39m=\u001b[39m np\u001b[39m.\u001b[39;49mdot(d\u001b[39m.\u001b[39;49mT, w)\n\u001b[0;32m     29\u001b[0m \u001b[39m# l = np.dot(d.T, w)\u001b[39;00m\n\u001b[0;32m     30\u001b[0m \u001b[39m# k = np.mean(p, 0)\u001b[39;00m\n",
      "File \u001b[1;32m<__array_function__ internals>:200\u001b[0m, in \u001b[0;36mdot\u001b[1;34m(*args, **kwargs)\u001b[0m\n",
      "\u001b[1;31mValueError\u001b[0m: shapes (4,5) and (2,5) not aligned: 5 (dim 1) != 2 (dim 0)"
     ]
    }
   ],
   "source": [
    "import numpy as np\n",
    "dataset = np.array([\n",
    "    [2104, 5, 1, 45, 460],\n",
    "    [1416, 3, 2, 40, 232],\n",
    "    [1534, 3, 2, 30, 315],\n",
    "    [1600, 4, 2, 30, 389],\n",
    "    [852, 2, 1, 36, 178],\n",
    "])\n",
    "\n",
    "w = np.array([[1, 0, 0, 0, 1], [1,0,0,0,0]])\n",
    "b = 2\n",
    "d = np.array([\n",
    "    [2104, 5, 1, 45],\n",
    "    [1416, 3, 2, 40],\n",
    "    [1534, 3, 2, 30],\n",
    "    [1600, 4, 2, 30],\n",
    "    [852, 2, 1, 36],\n",
    "])\n",
    "\n",
    "\n",
    "# p = d @ w\n",
    "# def price(x):\n",
    "#     return np.dot(w, x.T) + b\n",
    "# l = price(d[0])\n",
    "# k = price(d)\n",
    "k = np.dot(w[0], d)\n",
    "l = np.dot(w, d)\n",
    "m = np.dot(d.T, w)\n",
    "# l = np.dot(d.T, w)\n",
    "# k = np.mean(p, 0)\n"
   ]
  }
 ],
 "metadata": {
  "kernelspec": {
   "display_name": "Python 3.10.8 64-bit",
   "language": "python",
   "name": "python3"
  },
  "language_info": {
   "codemirror_mode": {
    "name": "ipython",
    "version": 3
   },
   "file_extension": ".py",
   "mimetype": "text/x-python",
   "name": "python",
   "nbconvert_exporter": "python",
   "pygments_lexer": "ipython3",
   "version": "3.10.8"
  },
  "orig_nbformat": 4,
  "vscode": {
   "interpreter": {
    "hash": "c19fa61d258bb2b35aae2ada233c33e2817c1ce895aa48acba720c6bf7cbe3cb"
   }
  }
 },
 "nbformat": 4,
 "nbformat_minor": 2
}

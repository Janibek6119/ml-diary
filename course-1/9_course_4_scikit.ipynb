{
 "cells": [
  {
   "cell_type": "code",
   "execution_count": 1,
   "metadata": {},
   "outputs": [
    {
     "name": "stdout",
     "output_type": "stream",
     "text": [
      "Scaled inputs:\n",
      "[[ 1.5   1.57 -1.22  1.51]\n",
      " [-0.21 -0.39  0.82  0.65]\n",
      " [ 0.08 -0.39  0.82 -1.07]\n",
      " [ 0.25  0.59  0.82 -1.07]\n",
      " [-1.62 -1.37 -1.22 -0.03]]\n",
      "SGDRegressor(max_iter=100000)\n",
      "number of iterations completed: 1815, number of weight updates: 9076.0\n",
      "[314.8]\n",
      "[ 49.25  64.61 -24.29 -39.63]\n"
     ]
    }
   ],
   "source": [
    "import numpy as np\n",
    "import matplotlib.pyplot as plt\n",
    "from sklearn.linear_model import SGDRegressor\n",
    "from sklearn.preprocessing import StandardScaler\n",
    "np.set_printoptions(precision=2)\n",
    "\n",
    "dataset = np.array([\n",
    "    [2104, 5, 1, 45, 460],\n",
    "    [1416, 3, 2, 40, 232],\n",
    "    [1534, 3, 2, 30, 315],\n",
    "    [1600, 4, 2, 30, 389],\n",
    "    [852, 2, 1, 36, 178],\n",
    "])\n",
    "\n",
    "raw_inputs = dataset[:, :-1]\n",
    "outputs = dataset[:, -1]\n",
    "scaler = StandardScaler()\n",
    "inputs = scaler.fit_transform(raw_inputs)\n",
    "print(\"Scaled inputs:\")\n",
    "print(inputs)\n",
    "\n",
    "sgdr = SGDRegressor(max_iter=100000)\n",
    "sgdr.fit(inputs, outputs)\n",
    "print(sgdr)\n",
    "print(f\"number of iterations completed: {sgdr.n_iter_}, number of weight updates: {sgdr.t_}\")\n",
    "print(sgdr.intercept_)\n",
    "print(sgdr.coef_)\n"
   ]
  }
 ],
 "metadata": {
  "kernelspec": {
   "display_name": "Python 3.11.0 64-bit",
   "language": "python",
   "name": "python3"
  },
  "language_info": {
   "codemirror_mode": {
    "name": "ipython",
    "version": 3
   },
   "file_extension": ".py",
   "mimetype": "text/x-python",
   "name": "python",
   "nbconvert_exporter": "python",
   "pygments_lexer": "ipython3",
   "version": "3.10.8"
  },
  "orig_nbformat": 4,
  "vscode": {
   "interpreter": {
    "hash": "c261aea317cc0286b3b3261fbba9abdec21eaa57589985bb7a274bf54d6cc0a7"
   }
  }
 },
 "nbformat": 4,
 "nbformat_minor": 2
}

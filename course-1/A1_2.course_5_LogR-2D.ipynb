{
 "cells": [
  {
   "cell_type": "code",
   "execution_count": 31,
   "metadata": {},
   "outputs": [
    {
     "name": "stdout",
     "output_type": "stream",
     "text": [
      "1.2574374691766175\n"
     ]
    }
   ],
   "source": [
    "import numpy as np\n",
    "from matplotlib import pyplot as plt\n",
    "\n",
    "\n",
    "def sig(x):\n",
    "    return 1 / (1 + np.exp(-x))\n",
    "\n",
    "def shp(n: np.ndarray):\n",
    "    return n.reshape((-1, n.shape[-1]))\n",
    "\n",
    "\n",
    "def val(x: np.ndarray, w, b):\n",
    "    \"\"\"\n",
    "    input:\n",
    "        `N`[1...inf) input rows(M,)\n",
    "    return:\n",
    "        `2D(N,M)` arr of predictions\n",
    "    \"\"\"\n",
    "    return shp(np.dot(w, x.T)).T + b  # w is applied to N[1...inf) rows of x. Result: 2D(N, M) arr of predictions\n",
    "\n",
    "\n",
    "def pred(x, w, b):\n",
    "    return sig(val(x, w, b))\n",
    "\n",
    "\n",
    "dataset = np.array([\n",
    "    [0, 0, 0],\n",
    "    [0, 1, 0],\n",
    "    [0, 2, 0],\n",
    "    [0, 3, 0],\n",
    "    [0, 4, 1],\n",
    "    [1, 0, 0],\n",
    "    [1, 1, 0],\n",
    "    [1, 2, 0],\n",
    "    [1, 3, 1],\n",
    "    [1, 4, 1],\n",
    "    [2, 0, 0],\n",
    "    [2, 1, 0],\n",
    "    [2, 2, 1],\n",
    "    [2, 3, 1],\n",
    "    [2, 4, 1],\n",
    "    [3, 0, 0],\n",
    "    [3, 1, 1],\n",
    "    [3, 2, 1],\n",
    "    [3, 3, 1],\n",
    "    [3, 4, 1],\n",
    "    [4, 0, 1],\n",
    "    [4, 1, 1],\n",
    "    [4, 2, 1],\n",
    "    [4, 3, 1],\n",
    "    [4, 4, 1],\n",
    "])\n",
    "x_train = dataset[:, :-1]\n",
    "y_train = dataset[:, -1:]\n",
    "w = [1, 2]\n",
    "b = 0\n",
    "\n",
    "def setplot():\n",
    "    smols = np.array([x for x in dataset if x[2] == 0])\n",
    "    highs = np.array([x for x in dataset if x[2] == 1])\n",
    "    plt.scatter(smols[:, 0], smols[:, 1])\n",
    "    plt.scatter(highs[:, 0], highs[:, 1], c='red')\n",
    "    plt.show()\n",
    "\n",
    "def checkplot():\n",
    "    check_set = []\n",
    "    for i in np.arange(0, 4, 0.1):\n",
    "        for j in np.arange(0, 4, 0.1):\n",
    "            check_set.append([np.round(i, 1), np.round(j, 1)])\n",
    "    check_set = np.array(check_set)\n",
    "    preds = pred(check_set, w, b)\n",
    "    check_set = np.hstack((check_set, preds))\n",
    "    smols = np.array([x for x in check_set if x[2] >= 0.5])\n",
    "    highs = np.array([x for x in check_set if x[2] < 0.5])\n",
    "    if len(smols) > 0:\n",
    "        plt.scatter(smols[:, 0], smols[:, 1])\n",
    "    if len(highs) > 0:\n",
    "        plt.scatter(highs[:, 0], highs[:, 1], c='red')\n",
    "    plt.show()\n",
    "\n",
    "def cost(f, y):\n",
    "    a = y * np.log(f)\n",
    "    b = (1 - y) * np.log(1 - f)\n",
    "    return -np.mean(a+b)\n",
    "\n",
    "def gradient(x,w,b,y):\n",
    "    v = val(x,w,b)\n",
    "    f = pred(x,w,b)\n",
    "    err = f - y\n",
    "    gw = np.dot(err.T, x) / len(err)\n",
    "    gb = np.mean(err)\n",
    "    return gw,gb\n",
    "\n",
    "print(cost(pred(x_train, w, b), y_train))\n"
   ]
  },
  {
   "cell_type": "code",
   "execution_count": 64,
   "metadata": {},
   "outputs": [
    {
     "name": "stderr",
     "output_type": "stream",
     "text": [
      "0.006195975225213804:   0%|          | 0/1000 [00:00<?, ?it/s] C:\\Users\\Administrator\\AppData\\Local\\Temp\\ipykernel_2100\\2037030506.py:83: RuntimeWarning: divide by zero encountered in log\n",
      "  b = (1 - y) * np.log(1 - f)\n",
      "C:\\Users\\Administrator\\AppData\\Local\\Temp\\ipykernel_2100\\2037030506.py:83: RuntimeWarning: invalid value encountered in multiply\n",
      "  b = (1 - y) * np.log(1 - f)\n",
      "nan: 100%|██████████| 1000/1000 [00:00<00:00, 1795.95it/s]    \n"
     ]
    },
    {
     "data": {
      "image/png": "[encoded data removed]",
      "text/plain": [
       "<Figure size 640x480 with 1 Axes>"
      ]
     },
     "metadata": {},
     "output_type": "display_data"
    }
   ],
   "source": [
    "from tqdm import tqdm\n",
    "\n",
    "with tqdm(range(1000)) as pbar:\n",
    "    for i in pbar:\n",
    "        gw, gb = gradient(x_train, w, b, y_train)\n",
    "        w -= gw\n",
    "        b -= gb\n",
    "        pbar.set_description(f\"{cost(pred(x_train, w, b), y_train)}\")\n",
    "checkplot()\n"
   ]
  }
 ],
 "metadata": {
  "kernelspec": {
   "display_name": "Python 3.10.8 64-bit",
   "language": "python",
   "name": "python3"
  },
  "language_info": {
   "codemirror_mode": {
    "name": "ipython",
    "version": 3
   },
   "file_extension": ".py",
   "mimetype": "text/x-python",
   "name": "python",
   "nbconvert_exporter": "python",
   "pygments_lexer": "ipython3",
   "version": "3.10.8"
  },
  "orig_nbformat": 4,
  "vscode": {
   "interpreter": {
    "hash": "c19fa61d258bb2b35aae2ada233c33e2817c1ce895aa48acba720c6bf7cbe3cb"
   }
  }
 },
 "nbformat": 4,
 "nbformat_minor": 2
}

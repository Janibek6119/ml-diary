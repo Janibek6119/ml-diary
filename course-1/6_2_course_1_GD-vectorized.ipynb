{
 "cells": [
  {
   "cell_type": "code",
   "execution_count": 6,
   "metadata": {},
   "outputs": [
    {
     "name": "stdout",
     "output_type": "stream",
     "text": [
      "20625.0\n",
      "(-42500.0, -200.0)\n"
     ]
    }
   ],
   "source": [
    "import numpy as np\n",
    "\n",
    "dataset = np.array([\n",
    "    [100, 150],\n",
    "    [150, 175],\n",
    "    [200, 200],\n",
    "    [250, 225],\n",
    "    [300, 250]\n",
    "])\n",
    "w = 0\n",
    "b = 0\n",
    "alpha = 0.000_01\n",
    "\n",
    "def cost():\n",
    "    return np.mean((dataset[:, 0] * w + b - dataset[:, 1]) ** 2) / 2\n",
    "\n",
    "def gradients():\n",
    "    err = dataset[:, 0] * w + b - dataset[:, 1]\n",
    "    gw = np.mean(err * dataset[:, 0])\n",
    "    gb = np.mean(err)\n",
    "    return gw,gb\n",
    "\n",
    "print(cost())\n",
    "print(gradients())"
   ]
  },
  {
   "cell_type": "code",
   "execution_count": 20,
   "metadata": {},
   "outputs": [
    {
     "name": "stdout",
     "output_type": "stream",
     "text": [
      "Iteration    0: Cost 6.31e+00  dj_dw:  5.262e-03, dj_db: -1.184e+00   w:  5.474e-01, b: 8.93437e+01\n",
      "Iteration 100000: Cost 5.05e+00  dj_dw:  4.709e-03, dj_db: -1.060e+00   w:  5.424e-01, b: 9.04643e+01\n",
      "Iteration 200000: Cost 4.05e+00  dj_dw:  4.214e-03, dj_db: -9.481e-01   w:  5.379e-01, b: 9.14670e+01\n",
      "Iteration 300000: Cost 3.24e+00  dj_dw:  3.771e-03, dj_db: -8.484e-01   w:  5.339e-01, b: 9.23643e+01\n",
      "Iteration 400000: Cost 2.59e+00  dj_dw:  3.374e-03, dj_db: -7.592e-01   w:  5.304e-01, b: 9.31673e+01\n",
      "Iteration 500000: Cost 2.08e+00  dj_dw:  3.019e-03, dj_db: -6.793e-01   w:  5.272e-01, b: 9.38858e+01\n",
      "Iteration 600000: Cost 1.66e+00  dj_dw:  2.702e-03, dj_db: -6.079e-01   w:  5.243e-01, b: 9.45288e+01\n",
      "Iteration 700000: Cost 1.33e+00  dj_dw:  2.418e-03, dj_db: -5.440e-01   w:  5.218e-01, b: 9.51041e+01\n",
      "Iteration 800000: Cost 1.07e+00  dj_dw:  2.163e-03, dj_db: -4.868e-01   w:  5.195e-01, b: 9.56190e+01\n",
      "Iteration 900000: Cost 8.54e-01  dj_dw:  1.936e-03, dj_db: -4.356e-01   w:  5.174e-01, b: 9.60797e+01\n",
      "Iteration 999999: Cost 6.84e-01  dj_dw:  1.732e-03, dj_db: -3.898e-01   w:  5.156e-01, b: 9.64919e+01\n",
      "0.6836987913470172\n",
      "(0.0017323519296041923, -0.3897782223335298)\n"
     ]
    }
   ],
   "source": [
    "import math\n",
    "for i in range(1000000):\n",
    "  gw,gb = gradients()\n",
    "  # print((gw,gb))\n",
    "  w -= alpha*gw\n",
    "  b -= alpha*gb\n",
    "  if i % 100000 == 0 or i == 999999:\n",
    "      print(f\"Iteration {i:4}: Cost {cost():0.2e} \",\n",
    "            f\"dj_dw: {gw: 0.3e}, dj_db: {gb: 0.3e}  \",\n",
    "            f\"w: {w: 0.3e}, b:{b: 0.5e}\")\n",
    "print(cost())\n",
    "print(gradients())\n"
   ]
  }
 ],
 "metadata": {
  "kernelspec": {
   "display_name": "Python 3.11.0 64-bit",
   "language": "python",
   "name": "python3"
  },
  "language_info": {
   "codemirror_mode": {
    "name": "ipython",
    "version": 3
   },
   "file_extension": ".py",
   "mimetype": "text/x-python",
   "name": "python",
   "nbconvert_exporter": "python",
   "pygments_lexer": "ipython3",
   "version": "3.11.0"
  },
  "orig_nbformat": 4,
  "vscode": {
   "interpreter": {
    "hash": "c261aea317cc0286b3b3261fbba9abdec21eaa57589985bb7a274bf54d6cc0a7"
   }
  }
 },
 "nbformat": 4,
 "nbformat_minor": 2
}
